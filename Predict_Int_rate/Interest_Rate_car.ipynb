{
 "cells": [
  {
   "cell_type": "markdown",
   "metadata": {},
   "source": [
    "# Business Understanding\n",
    "### The purpose of this notebook is predict the interset rate for the credit card dataset"
   ]
  },
  {
   "cell_type": "markdown",
   "metadata": {},
   "source": [
    "## Import necessary Libraries "
   ]
  },
  {
   "cell_type": "code",
   "execution_count": 1,
   "metadata": {},
   "outputs": [],
   "source": [
    "\n",
    "import pandas as pd\n",
    "import numpy as np\n",
    "\n",
    "import warnings # ignore warnings\n",
    "warnings.simplefilter(\"ignore\")      #Assign predictors & target\n",
    "from sklearn import preprocessing     \n",
    "\n",
    "from sklearn.model_selection import train_test_split # Split data\n",
    "\n",
    "#Models\n",
    "from sklearn import model_selection\n",
    "from sklearn.metrics import accuracy_score\n",
    "\n",
    "\n",
    "from sklearn.ensemble import RandomForestClassifier\n",
    "from sklearn.preprocessing import StandardScaler   # Feature Scaling for RF\n",
    "\n",
    "from sklearn.preprocessing import MinMaxScaler\n",
    "\n",
    "\n",
    "from sklearn.svm import SVC\n",
    "from sklearn.model_selection import GridSearchCV\n",
    "\n",
    "from sklearn.model_selection import train_test_split\n",
    "\n",
    "import sklearn \n",
    "from sklearn.metrics import classification_report, confusion_matrix\n",
    "\n",
    "from sklearn.model_selection import cross_val_score\n"
   ]
  },
  {
   "cell_type": "markdown",
   "metadata": {},
   "source": [
    "# Preproccessing"
   ]
  },
  {
   "cell_type": "code",
   "execution_count": 2,
   "metadata": {},
   "outputs": [
    {
     "data": {
      "text/html": [
       "<div>\n",
       "<style scoped>\n",
       "    .dataframe tbody tr th:only-of-type {\n",
       "        vertical-align: middle;\n",
       "    }\n",
       "\n",
       "    .dataframe tbody tr th {\n",
       "        vertical-align: top;\n",
       "    }\n",
       "\n",
       "    .dataframe thead th {\n",
       "        text-align: right;\n",
       "    }\n",
       "</style>\n",
       "<table border=\"1\" class=\"dataframe\">\n",
       "  <thead>\n",
       "    <tr style=\"text-align: right;\">\n",
       "      <th></th>\n",
       "      <th>Column</th>\n",
       "      <th>loan_amnt</th>\n",
       "      <th>funded_amnt</th>\n",
       "      <th>int_rate</th>\n",
       "      <th>installment</th>\n",
       "      <th>grade</th>\n",
       "      <th>emp_length</th>\n",
       "      <th>annual_inc</th>\n",
       "      <th>loan_status</th>\n",
       "      <th>purpose</th>\n",
       "      <th>addr_state</th>\n",
       "      <th>last_pymnt_amnt</th>\n",
       "      <th>avg_cur_bal</th>\n",
       "      <th>num_actv_rev_tl</th>\n",
       "    </tr>\n",
       "  </thead>\n",
       "  <tbody>\n",
       "    <tr>\n",
       "      <th>0</th>\n",
       "      <td>15</td>\n",
       "      <td>15000</td>\n",
       "      <td>15000</td>\n",
       "      <td>7.56</td>\n",
       "      <td>467.01</td>\n",
       "      <td>7</td>\n",
       "      <td>1.0</td>\n",
       "      <td>115000.0</td>\n",
       "      <td>Fully Paid</td>\n",
       "      <td>car</td>\n",
       "      <td>NJ</td>\n",
       "      <td>15016.54</td>\n",
       "      <td>28186.0</td>\n",
       "      <td>4</td>\n",
       "    </tr>\n",
       "    <tr>\n",
       "      <th>1</th>\n",
       "      <td>20</td>\n",
       "      <td>20000</td>\n",
       "      <td>20000</td>\n",
       "      <td>15.57</td>\n",
       "      <td>698.91</td>\n",
       "      <td>5</td>\n",
       "      <td>NaN</td>\n",
       "      <td>46620.0</td>\n",
       "      <td>Fully Paid</td>\n",
       "      <td>car</td>\n",
       "      <td>VT</td>\n",
       "      <td>20045.85</td>\n",
       "      <td>9549.0</td>\n",
       "      <td>0</td>\n",
       "    </tr>\n",
       "    <tr>\n",
       "      <th>2</th>\n",
       "      <td>33</td>\n",
       "      <td>1200</td>\n",
       "      <td>1200</td>\n",
       "      <td>15.57</td>\n",
       "      <td>41.94</td>\n",
       "      <td>5</td>\n",
       "      <td>5.0</td>\n",
       "      <td>60000.0</td>\n",
       "      <td>Fully Paid</td>\n",
       "      <td>car</td>\n",
       "      <td>CA</td>\n",
       "      <td>1224.71</td>\n",
       "      <td>4314.0</td>\n",
       "      <td>4</td>\n",
       "    </tr>\n",
       "    <tr>\n",
       "      <th>3</th>\n",
       "      <td>133</td>\n",
       "      <td>5000</td>\n",
       "      <td>5000</td>\n",
       "      <td>17.19</td>\n",
       "      <td>178.74</td>\n",
       "      <td>5</td>\n",
       "      <td>1.0</td>\n",
       "      <td>56000.0</td>\n",
       "      <td>Fully Paid</td>\n",
       "      <td>car</td>\n",
       "      <td>CA</td>\n",
       "      <td>5017.95</td>\n",
       "      <td>687.0</td>\n",
       "      <td>7</td>\n",
       "    </tr>\n",
       "    <tr>\n",
       "      <th>4</th>\n",
       "      <td>216</td>\n",
       "      <td>14400</td>\n",
       "      <td>14400</td>\n",
       "      <td>22.50</td>\n",
       "      <td>401.82</td>\n",
       "      <td>4</td>\n",
       "      <td>3.0</td>\n",
       "      <td>91920.0</td>\n",
       "      <td>Fully Paid</td>\n",
       "      <td>car</td>\n",
       "      <td>IN</td>\n",
       "      <td>14456.70</td>\n",
       "      <td>4272.0</td>\n",
       "      <td>5</td>\n",
       "    </tr>\n",
       "    <tr>\n",
       "      <th>5</th>\n",
       "      <td>271</td>\n",
       "      <td>3500</td>\n",
       "      <td>3500</td>\n",
       "      <td>12.40</td>\n",
       "      <td>116.92</td>\n",
       "      <td>6</td>\n",
       "      <td>1.0</td>\n",
       "      <td>30000.0</td>\n",
       "      <td>Charged Off</td>\n",
       "      <td>car</td>\n",
       "      <td>WI</td>\n",
       "      <td>116.92</td>\n",
       "      <td>8032.0</td>\n",
       "      <td>3</td>\n",
       "    </tr>\n",
       "    <tr>\n",
       "      <th>6</th>\n",
       "      <td>309</td>\n",
       "      <td>14400</td>\n",
       "      <td>14400</td>\n",
       "      <td>20.00</td>\n",
       "      <td>535.16</td>\n",
       "      <td>4</td>\n",
       "      <td>1.0</td>\n",
       "      <td>60000.0</td>\n",
       "      <td>Charged Off</td>\n",
       "      <td>car</td>\n",
       "      <td>NC</td>\n",
       "      <td>0.00</td>\n",
       "      <td>4164.0</td>\n",
       "      <td>6</td>\n",
       "    </tr>\n",
       "    <tr>\n",
       "      <th>7</th>\n",
       "      <td>322</td>\n",
       "      <td>16000</td>\n",
       "      <td>16000</td>\n",
       "      <td>13.08</td>\n",
       "      <td>364.71</td>\n",
       "      <td>6</td>\n",
       "      <td>5.0</td>\n",
       "      <td>140000.0</td>\n",
       "      <td>Fully Paid</td>\n",
       "      <td>car</td>\n",
       "      <td>NJ</td>\n",
       "      <td>16208.87</td>\n",
       "      <td>2357.0</td>\n",
       "      <td>3</td>\n",
       "    </tr>\n",
       "    <tr>\n",
       "      <th>8</th>\n",
       "      <td>371</td>\n",
       "      <td>8000</td>\n",
       "      <td>8000</td>\n",
       "      <td>17.97</td>\n",
       "      <td>289.10</td>\n",
       "      <td>4</td>\n",
       "      <td>10.0</td>\n",
       "      <td>185000.0</td>\n",
       "      <td>Fully Paid</td>\n",
       "      <td>car</td>\n",
       "      <td>AZ</td>\n",
       "      <td>8013.18</td>\n",
       "      <td>35803.0</td>\n",
       "      <td>7</td>\n",
       "    </tr>\n",
       "    <tr>\n",
       "      <th>9</th>\n",
       "      <td>399</td>\n",
       "      <td>12000</td>\n",
       "      <td>12000</td>\n",
       "      <td>13.90</td>\n",
       "      <td>278.60</td>\n",
       "      <td>5</td>\n",
       "      <td>10.0</td>\n",
       "      <td>186500.0</td>\n",
       "      <td>Fully Paid</td>\n",
       "      <td>car</td>\n",
       "      <td>CA</td>\n",
       "      <td>12134.37</td>\n",
       "      <td>36238.0</td>\n",
       "      <td>6</td>\n",
       "    </tr>\n",
       "  </tbody>\n",
       "</table>\n",
       "</div>"
      ],
      "text/plain": [
       "   Column  loan_amnt  funded_amnt  int_rate  installment  grade  emp_length  \\\n",
       "0      15      15000        15000      7.56       467.01      7         1.0   \n",
       "1      20      20000        20000     15.57       698.91      5         NaN   \n",
       "2      33       1200         1200     15.57        41.94      5         5.0   \n",
       "3     133       5000         5000     17.19       178.74      5         1.0   \n",
       "4     216      14400        14400     22.50       401.82      4         3.0   \n",
       "5     271       3500         3500     12.40       116.92      6         1.0   \n",
       "6     309      14400        14400     20.00       535.16      4         1.0   \n",
       "7     322      16000        16000     13.08       364.71      6         5.0   \n",
       "8     371       8000         8000     17.97       289.10      4        10.0   \n",
       "9     399      12000        12000     13.90       278.60      5        10.0   \n",
       "\n",
       "   annual_inc  loan_status purpose addr_state  last_pymnt_amnt  avg_cur_bal  \\\n",
       "0    115000.0   Fully Paid     car         NJ         15016.54      28186.0   \n",
       "1     46620.0   Fully Paid     car         VT         20045.85       9549.0   \n",
       "2     60000.0   Fully Paid     car         CA          1224.71       4314.0   \n",
       "3     56000.0   Fully Paid     car         CA          5017.95        687.0   \n",
       "4     91920.0   Fully Paid     car         IN         14456.70       4272.0   \n",
       "5     30000.0  Charged Off     car         WI           116.92       8032.0   \n",
       "6     60000.0  Charged Off     car         NC             0.00       4164.0   \n",
       "7    140000.0   Fully Paid     car         NJ         16208.87       2357.0   \n",
       "8    185000.0   Fully Paid     car         AZ          8013.18      35803.0   \n",
       "9    186500.0   Fully Paid     car         CA         12134.37      36238.0   \n",
       "\n",
       "   num_actv_rev_tl  \n",
       "0                4  \n",
       "1                0  \n",
       "2                4  \n",
       "3                7  \n",
       "4                5  \n",
       "5                3  \n",
       "6                6  \n",
       "7                3  \n",
       "8                7  \n",
       "9                6  "
      ]
     },
     "execution_count": 2,
     "metadata": {},
     "output_type": "execute_result"
    }
   ],
   "source": [
    "car = pd.read_csv('datasets/car.csv')\n",
    "car.head(n=10)"
   ]
  },
  {
   "cell_type": "code",
   "execution_count": 3,
   "metadata": {},
   "outputs": [
    {
     "data": {
      "text/plain": [
       "(71, 14)"
      ]
     },
     "execution_count": 3,
     "metadata": {},
     "output_type": "execute_result"
    }
   ],
   "source": [
    "car.shape"
   ]
  },
  {
   "cell_type": "markdown",
   "metadata": {},
   "source": [
    "# Since it has the same columns as Credit_card dataset, we will follow the same process"
   ]
  },
  {
   "cell_type": "code",
   "execution_count": 4,
   "metadata": {},
   "outputs": [
    {
     "name": "stdout",
     "output_type": "stream",
     "text": [
      "<class 'pandas.core.frame.DataFrame'>\n",
      "RangeIndex: 71 entries, 0 to 70\n",
      "Data columns (total 14 columns):\n",
      "Column             71 non-null int64\n",
      "loan_amnt          71 non-null int64\n",
      "funded_amnt        71 non-null int64\n",
      "int_rate           71 non-null float64\n",
      "installment        71 non-null float64\n",
      "grade              71 non-null int64\n",
      "emp_length         65 non-null float64\n",
      "annual_inc         71 non-null float64\n",
      "loan_status        71 non-null object\n",
      "purpose            71 non-null object\n",
      "addr_state         71 non-null object\n",
      "last_pymnt_amnt    71 non-null float64\n",
      "avg_cur_bal        71 non-null float64\n",
      "num_actv_rev_tl    71 non-null int64\n",
      "dtypes: float64(6), int64(5), object(3)\n",
      "memory usage: 7.8+ KB\n"
     ]
    }
   ],
   "source": [
    "car.info()"
   ]
  },
  {
   "cell_type": "code",
   "execution_count": 5,
   "metadata": {},
   "outputs": [],
   "source": [
    "car.dropna(inplace = True)"
   ]
  },
  {
   "cell_type": "code",
   "execution_count": 6,
   "metadata": {},
   "outputs": [],
   "source": [
    "car['int_rate'] = car.int_rate.astype(int)\n",
    "car['installment'] = car.int_rate.astype(int)\n",
    "car['emp_length'] = car.int_rate.astype(int)\n",
    "car['annual_inc'] = car.int_rate.astype(int)\n",
    "car['int_rate'] = car.int_rate.astype(int)\n",
    "car['int_rate'] = car.int_rate.astype(int)"
   ]
  },
  {
   "cell_type": "code",
   "execution_count": 7,
   "metadata": {},
   "outputs": [
    {
     "name": "stdout",
     "output_type": "stream",
     "text": [
      "<class 'pandas.core.frame.DataFrame'>\n",
      "Int64Index: 65 entries, 0 to 69\n",
      "Data columns (total 14 columns):\n",
      "Column             65 non-null int64\n",
      "loan_amnt          65 non-null int64\n",
      "funded_amnt        65 non-null int64\n",
      "int_rate           65 non-null int64\n",
      "installment        65 non-null int64\n",
      "grade              65 non-null int64\n",
      "emp_length         65 non-null int64\n",
      "annual_inc         65 non-null int64\n",
      "loan_status        65 non-null object\n",
      "purpose            65 non-null object\n",
      "addr_state         65 non-null object\n",
      "last_pymnt_amnt    65 non-null float64\n",
      "avg_cur_bal        65 non-null float64\n",
      "num_actv_rev_tl    65 non-null int64\n",
      "dtypes: float64(2), int64(9), object(3)\n",
      "memory usage: 7.6+ KB\n"
     ]
    }
   ],
   "source": [
    "car.info()"
   ]
  },
  {
   "cell_type": "code",
   "execution_count": 8,
   "metadata": {},
   "outputs": [],
   "source": [
    "car.drop('purpose', axis=1, inplace=True)"
   ]
  },
  {
   "cell_type": "code",
   "execution_count": 9,
   "metadata": {},
   "outputs": [
    {
     "data": {
      "text/html": [
       "<div>\n",
       "<style scoped>\n",
       "    .dataframe tbody tr th:only-of-type {\n",
       "        vertical-align: middle;\n",
       "    }\n",
       "\n",
       "    .dataframe tbody tr th {\n",
       "        vertical-align: top;\n",
       "    }\n",
       "\n",
       "    .dataframe thead th {\n",
       "        text-align: right;\n",
       "    }\n",
       "</style>\n",
       "<table border=\"1\" class=\"dataframe\">\n",
       "  <thead>\n",
       "    <tr style=\"text-align: right;\">\n",
       "      <th></th>\n",
       "      <th>Column</th>\n",
       "      <th>loan_amnt</th>\n",
       "      <th>funded_amnt</th>\n",
       "      <th>int_rate</th>\n",
       "      <th>installment</th>\n",
       "      <th>grade</th>\n",
       "      <th>emp_length</th>\n",
       "      <th>annual_inc</th>\n",
       "      <th>loan_status</th>\n",
       "      <th>addr_state</th>\n",
       "      <th>last_pymnt_amnt</th>\n",
       "      <th>avg_cur_bal</th>\n",
       "      <th>num_actv_rev_tl</th>\n",
       "    </tr>\n",
       "  </thead>\n",
       "  <tbody>\n",
       "    <tr>\n",
       "      <th>0</th>\n",
       "      <td>15</td>\n",
       "      <td>15000</td>\n",
       "      <td>15000</td>\n",
       "      <td>7</td>\n",
       "      <td>7</td>\n",
       "      <td>7</td>\n",
       "      <td>7</td>\n",
       "      <td>7</td>\n",
       "      <td>Fully Paid</td>\n",
       "      <td>NJ</td>\n",
       "      <td>15016.54</td>\n",
       "      <td>28186.0</td>\n",
       "      <td>4</td>\n",
       "    </tr>\n",
       "    <tr>\n",
       "      <th>2</th>\n",
       "      <td>33</td>\n",
       "      <td>1200</td>\n",
       "      <td>1200</td>\n",
       "      <td>15</td>\n",
       "      <td>15</td>\n",
       "      <td>5</td>\n",
       "      <td>15</td>\n",
       "      <td>15</td>\n",
       "      <td>Fully Paid</td>\n",
       "      <td>CA</td>\n",
       "      <td>1224.71</td>\n",
       "      <td>4314.0</td>\n",
       "      <td>4</td>\n",
       "    </tr>\n",
       "    <tr>\n",
       "      <th>3</th>\n",
       "      <td>133</td>\n",
       "      <td>5000</td>\n",
       "      <td>5000</td>\n",
       "      <td>17</td>\n",
       "      <td>17</td>\n",
       "      <td>5</td>\n",
       "      <td>17</td>\n",
       "      <td>17</td>\n",
       "      <td>Fully Paid</td>\n",
       "      <td>CA</td>\n",
       "      <td>5017.95</td>\n",
       "      <td>687.0</td>\n",
       "      <td>7</td>\n",
       "    </tr>\n",
       "    <tr>\n",
       "      <th>4</th>\n",
       "      <td>216</td>\n",
       "      <td>14400</td>\n",
       "      <td>14400</td>\n",
       "      <td>22</td>\n",
       "      <td>22</td>\n",
       "      <td>4</td>\n",
       "      <td>22</td>\n",
       "      <td>22</td>\n",
       "      <td>Fully Paid</td>\n",
       "      <td>IN</td>\n",
       "      <td>14456.70</td>\n",
       "      <td>4272.0</td>\n",
       "      <td>5</td>\n",
       "    </tr>\n",
       "    <tr>\n",
       "      <th>5</th>\n",
       "      <td>271</td>\n",
       "      <td>3500</td>\n",
       "      <td>3500</td>\n",
       "      <td>12</td>\n",
       "      <td>12</td>\n",
       "      <td>6</td>\n",
       "      <td>12</td>\n",
       "      <td>12</td>\n",
       "      <td>Charged Off</td>\n",
       "      <td>WI</td>\n",
       "      <td>116.92</td>\n",
       "      <td>8032.0</td>\n",
       "      <td>3</td>\n",
       "    </tr>\n",
       "  </tbody>\n",
       "</table>\n",
       "</div>"
      ],
      "text/plain": [
       "   Column  loan_amnt  funded_amnt  int_rate  installment  grade  emp_length  \\\n",
       "0      15      15000        15000         7            7      7           7   \n",
       "2      33       1200         1200        15           15      5          15   \n",
       "3     133       5000         5000        17           17      5          17   \n",
       "4     216      14400        14400        22           22      4          22   \n",
       "5     271       3500         3500        12           12      6          12   \n",
       "\n",
       "   annual_inc  loan_status addr_state  last_pymnt_amnt  avg_cur_bal  \\\n",
       "0           7   Fully Paid         NJ         15016.54      28186.0   \n",
       "2          15   Fully Paid         CA          1224.71       4314.0   \n",
       "3          17   Fully Paid         CA          5017.95        687.0   \n",
       "4          22   Fully Paid         IN         14456.70       4272.0   \n",
       "5          12  Charged Off         WI           116.92       8032.0   \n",
       "\n",
       "   num_actv_rev_tl  \n",
       "0                4  \n",
       "2                4  \n",
       "3                7  \n",
       "4                5  \n",
       "5                3  "
      ]
     },
     "execution_count": 9,
     "metadata": {},
     "output_type": "execute_result"
    }
   ],
   "source": [
    "car.head()"
   ]
  },
  {
   "cell_type": "code",
   "execution_count": 10,
   "metadata": {},
   "outputs": [],
   "source": [
    "car.drop('Column', axis=1, inplace=True)"
   ]
  },
  {
   "cell_type": "code",
   "execution_count": 11,
   "metadata": {},
   "outputs": [
    {
     "data": {
      "text/html": [
       "<div>\n",
       "<style scoped>\n",
       "    .dataframe tbody tr th:only-of-type {\n",
       "        vertical-align: middle;\n",
       "    }\n",
       "\n",
       "    .dataframe tbody tr th {\n",
       "        vertical-align: top;\n",
       "    }\n",
       "\n",
       "    .dataframe thead th {\n",
       "        text-align: right;\n",
       "    }\n",
       "</style>\n",
       "<table border=\"1\" class=\"dataframe\">\n",
       "  <thead>\n",
       "    <tr style=\"text-align: right;\">\n",
       "      <th></th>\n",
       "      <th>loan_amnt</th>\n",
       "      <th>funded_amnt</th>\n",
       "      <th>int_rate</th>\n",
       "      <th>installment</th>\n",
       "      <th>grade</th>\n",
       "      <th>emp_length</th>\n",
       "      <th>annual_inc</th>\n",
       "      <th>loan_status</th>\n",
       "      <th>addr_state</th>\n",
       "      <th>last_pymnt_amnt</th>\n",
       "      <th>avg_cur_bal</th>\n",
       "      <th>num_actv_rev_tl</th>\n",
       "    </tr>\n",
       "  </thead>\n",
       "  <tbody>\n",
       "    <tr>\n",
       "      <th>0</th>\n",
       "      <td>15000</td>\n",
       "      <td>15000</td>\n",
       "      <td>7</td>\n",
       "      <td>7</td>\n",
       "      <td>7</td>\n",
       "      <td>7</td>\n",
       "      <td>7</td>\n",
       "      <td>Fully Paid</td>\n",
       "      <td>NJ</td>\n",
       "      <td>15016.54</td>\n",
       "      <td>28186.0</td>\n",
       "      <td>4</td>\n",
       "    </tr>\n",
       "    <tr>\n",
       "      <th>2</th>\n",
       "      <td>1200</td>\n",
       "      <td>1200</td>\n",
       "      <td>15</td>\n",
       "      <td>15</td>\n",
       "      <td>5</td>\n",
       "      <td>15</td>\n",
       "      <td>15</td>\n",
       "      <td>Fully Paid</td>\n",
       "      <td>CA</td>\n",
       "      <td>1224.71</td>\n",
       "      <td>4314.0</td>\n",
       "      <td>4</td>\n",
       "    </tr>\n",
       "    <tr>\n",
       "      <th>3</th>\n",
       "      <td>5000</td>\n",
       "      <td>5000</td>\n",
       "      <td>17</td>\n",
       "      <td>17</td>\n",
       "      <td>5</td>\n",
       "      <td>17</td>\n",
       "      <td>17</td>\n",
       "      <td>Fully Paid</td>\n",
       "      <td>CA</td>\n",
       "      <td>5017.95</td>\n",
       "      <td>687.0</td>\n",
       "      <td>7</td>\n",
       "    </tr>\n",
       "    <tr>\n",
       "      <th>4</th>\n",
       "      <td>14400</td>\n",
       "      <td>14400</td>\n",
       "      <td>22</td>\n",
       "      <td>22</td>\n",
       "      <td>4</td>\n",
       "      <td>22</td>\n",
       "      <td>22</td>\n",
       "      <td>Fully Paid</td>\n",
       "      <td>IN</td>\n",
       "      <td>14456.70</td>\n",
       "      <td>4272.0</td>\n",
       "      <td>5</td>\n",
       "    </tr>\n",
       "    <tr>\n",
       "      <th>5</th>\n",
       "      <td>3500</td>\n",
       "      <td>3500</td>\n",
       "      <td>12</td>\n",
       "      <td>12</td>\n",
       "      <td>6</td>\n",
       "      <td>12</td>\n",
       "      <td>12</td>\n",
       "      <td>Charged Off</td>\n",
       "      <td>WI</td>\n",
       "      <td>116.92</td>\n",
       "      <td>8032.0</td>\n",
       "      <td>3</td>\n",
       "    </tr>\n",
       "  </tbody>\n",
       "</table>\n",
       "</div>"
      ],
      "text/plain": [
       "   loan_amnt  funded_amnt  int_rate  installment  grade  emp_length  \\\n",
       "0      15000        15000         7            7      7           7   \n",
       "2       1200         1200        15           15      5          15   \n",
       "3       5000         5000        17           17      5          17   \n",
       "4      14400        14400        22           22      4          22   \n",
       "5       3500         3500        12           12      6          12   \n",
       "\n",
       "   annual_inc  loan_status addr_state  last_pymnt_amnt  avg_cur_bal  \\\n",
       "0           7   Fully Paid         NJ         15016.54      28186.0   \n",
       "2          15   Fully Paid         CA          1224.71       4314.0   \n",
       "3          17   Fully Paid         CA          5017.95        687.0   \n",
       "4          22   Fully Paid         IN         14456.70       4272.0   \n",
       "5          12  Charged Off         WI           116.92       8032.0   \n",
       "\n",
       "   num_actv_rev_tl  \n",
       "0                4  \n",
       "2                4  \n",
       "3                7  \n",
       "4                5  \n",
       "5                3  "
      ]
     },
     "execution_count": 11,
     "metadata": {},
     "output_type": "execute_result"
    }
   ],
   "source": [
    "car.head()"
   ]
  },
  {
   "cell_type": "code",
   "execution_count": 12,
   "metadata": {},
   "outputs": [
    {
     "name": "stdout",
     "output_type": "stream",
     "text": [
      "{'loan_status': {'Charged Off': 1, 'Fully Paid': 2}}\n"
     ]
    }
   ],
   "source": [
    "labels_loanStatus = car['loan_status'].astype('category').cat.categories.tolist()\n",
    "replace_map_loan_status = {'loan_status' : {k: v for k,v in zip(labels_loanStatus,list(range(1,len(labels_loanStatus)+1)))}}\n",
    "print(replace_map_loan_status)"
   ]
  },
  {
   "cell_type": "code",
   "execution_count": 13,
   "metadata": {},
   "outputs": [],
   "source": [
    "car.replace(replace_map_loan_status, inplace=True)"
   ]
  },
  {
   "cell_type": "code",
   "execution_count": 14,
   "metadata": {},
   "outputs": [
    {
     "name": "stdout",
     "output_type": "stream",
     "text": [
      "{'addr_state': {'AL': 1, 'AZ': 2, 'CA': 3, 'CO': 4, 'CT': 5, 'FL': 6, 'GA': 7, 'IL': 8, 'IN': 9, 'KS': 10, 'KY': 11, 'MD': 12, 'ME': 13, 'MI': 14, 'MN': 15, 'MO': 16, 'MT': 17, 'NC': 18, 'NJ': 19, 'NV': 20, 'NY': 21, 'OH': 22, 'OR': 23, 'PA': 24, 'RI': 25, 'SC': 26, 'TN': 27, 'TX': 28, 'VA': 29, 'WA': 30, 'WI': 31}}\n"
     ]
    }
   ],
   "source": [
    "labels_addr_state = car['addr_state'].astype('category').cat.categories.tolist()\n",
    "replace_map_comp_addr_state = {'addr_state' : {k: v for k,v in zip(labels_addr_state,list(range(1,len(labels_addr_state)+1)))}}\n",
    "print(replace_map_comp_addr_state)"
   ]
  },
  {
   "cell_type": "code",
   "execution_count": 15,
   "metadata": {},
   "outputs": [],
   "source": [
    "car.replace(replace_map_comp_addr_state, inplace = True)"
   ]
  },
  {
   "cell_type": "code",
   "execution_count": 16,
   "metadata": {},
   "outputs": [
    {
     "data": {
      "text/html": [
       "<div>\n",
       "<style scoped>\n",
       "    .dataframe tbody tr th:only-of-type {\n",
       "        vertical-align: middle;\n",
       "    }\n",
       "\n",
       "    .dataframe tbody tr th {\n",
       "        vertical-align: top;\n",
       "    }\n",
       "\n",
       "    .dataframe thead th {\n",
       "        text-align: right;\n",
       "    }\n",
       "</style>\n",
       "<table border=\"1\" class=\"dataframe\">\n",
       "  <thead>\n",
       "    <tr style=\"text-align: right;\">\n",
       "      <th></th>\n",
       "      <th>loan_amnt</th>\n",
       "      <th>funded_amnt</th>\n",
       "      <th>int_rate</th>\n",
       "      <th>installment</th>\n",
       "      <th>grade</th>\n",
       "      <th>emp_length</th>\n",
       "      <th>annual_inc</th>\n",
       "      <th>loan_status</th>\n",
       "      <th>addr_state</th>\n",
       "      <th>last_pymnt_amnt</th>\n",
       "      <th>avg_cur_bal</th>\n",
       "      <th>num_actv_rev_tl</th>\n",
       "    </tr>\n",
       "  </thead>\n",
       "  <tbody>\n",
       "    <tr>\n",
       "      <th>0</th>\n",
       "      <td>15000</td>\n",
       "      <td>15000</td>\n",
       "      <td>7</td>\n",
       "      <td>7</td>\n",
       "      <td>7</td>\n",
       "      <td>7</td>\n",
       "      <td>7</td>\n",
       "      <td>2</td>\n",
       "      <td>19</td>\n",
       "      <td>15016.54</td>\n",
       "      <td>28186.0</td>\n",
       "      <td>4</td>\n",
       "    </tr>\n",
       "    <tr>\n",
       "      <th>2</th>\n",
       "      <td>1200</td>\n",
       "      <td>1200</td>\n",
       "      <td>15</td>\n",
       "      <td>15</td>\n",
       "      <td>5</td>\n",
       "      <td>15</td>\n",
       "      <td>15</td>\n",
       "      <td>2</td>\n",
       "      <td>3</td>\n",
       "      <td>1224.71</td>\n",
       "      <td>4314.0</td>\n",
       "      <td>4</td>\n",
       "    </tr>\n",
       "    <tr>\n",
       "      <th>3</th>\n",
       "      <td>5000</td>\n",
       "      <td>5000</td>\n",
       "      <td>17</td>\n",
       "      <td>17</td>\n",
       "      <td>5</td>\n",
       "      <td>17</td>\n",
       "      <td>17</td>\n",
       "      <td>2</td>\n",
       "      <td>3</td>\n",
       "      <td>5017.95</td>\n",
       "      <td>687.0</td>\n",
       "      <td>7</td>\n",
       "    </tr>\n",
       "    <tr>\n",
       "      <th>4</th>\n",
       "      <td>14400</td>\n",
       "      <td>14400</td>\n",
       "      <td>22</td>\n",
       "      <td>22</td>\n",
       "      <td>4</td>\n",
       "      <td>22</td>\n",
       "      <td>22</td>\n",
       "      <td>2</td>\n",
       "      <td>9</td>\n",
       "      <td>14456.70</td>\n",
       "      <td>4272.0</td>\n",
       "      <td>5</td>\n",
       "    </tr>\n",
       "    <tr>\n",
       "      <th>5</th>\n",
       "      <td>3500</td>\n",
       "      <td>3500</td>\n",
       "      <td>12</td>\n",
       "      <td>12</td>\n",
       "      <td>6</td>\n",
       "      <td>12</td>\n",
       "      <td>12</td>\n",
       "      <td>1</td>\n",
       "      <td>31</td>\n",
       "      <td>116.92</td>\n",
       "      <td>8032.0</td>\n",
       "      <td>3</td>\n",
       "    </tr>\n",
       "  </tbody>\n",
       "</table>\n",
       "</div>"
      ],
      "text/plain": [
       "   loan_amnt  funded_amnt  int_rate  installment  grade  emp_length  \\\n",
       "0      15000        15000         7            7      7           7   \n",
       "2       1200         1200        15           15      5          15   \n",
       "3       5000         5000        17           17      5          17   \n",
       "4      14400        14400        22           22      4          22   \n",
       "5       3500         3500        12           12      6          12   \n",
       "\n",
       "   annual_inc  loan_status  addr_state  last_pymnt_amnt  avg_cur_bal  \\\n",
       "0           7            2          19         15016.54      28186.0   \n",
       "2          15            2           3          1224.71       4314.0   \n",
       "3          17            2           3          5017.95        687.0   \n",
       "4          22            2           9         14456.70       4272.0   \n",
       "5          12            1          31           116.92       8032.0   \n",
       "\n",
       "   num_actv_rev_tl  \n",
       "0                4  \n",
       "2                4  \n",
       "3                7  \n",
       "4                5  \n",
       "5                3  "
      ]
     },
     "execution_count": 16,
     "metadata": {},
     "output_type": "execute_result"
    }
   ],
   "source": [
    "car.head()"
   ]
  },
  {
   "cell_type": "code",
   "execution_count": 17,
   "metadata": {},
   "outputs": [],
   "source": [
    "\n",
    "y=car['int_rate']\n",
    "X = car.drop('int_rate', axis=1)"
   ]
  },
  {
   "cell_type": "code",
   "execution_count": 18,
   "metadata": {},
   "outputs": [],
   "source": [
    "X_train, X_test, y_train, y_test = train_test_split(X, y, test_size = 0.25,random_state=0)"
   ]
  },
  {
   "cell_type": "code",
   "execution_count": 19,
   "metadata": {},
   "outputs": [
    {
     "data": {
      "text/plain": [
       "(48, 11)"
      ]
     },
     "execution_count": 19,
     "metadata": {},
     "output_type": "execute_result"
    }
   ],
   "source": [
    "X_train.shape"
   ]
  },
  {
   "cell_type": "code",
   "execution_count": 20,
   "metadata": {},
   "outputs": [
    {
     "data": {
      "text/html": [
       "<div>\n",
       "<style scoped>\n",
       "    .dataframe tbody tr th:only-of-type {\n",
       "        vertical-align: middle;\n",
       "    }\n",
       "\n",
       "    .dataframe tbody tr th {\n",
       "        vertical-align: top;\n",
       "    }\n",
       "\n",
       "    .dataframe thead th {\n",
       "        text-align: right;\n",
       "    }\n",
       "</style>\n",
       "<table border=\"1\" class=\"dataframe\">\n",
       "  <thead>\n",
       "    <tr style=\"text-align: right;\">\n",
       "      <th></th>\n",
       "      <th>loan_amnt</th>\n",
       "      <th>funded_amnt</th>\n",
       "      <th>installment</th>\n",
       "      <th>grade</th>\n",
       "      <th>emp_length</th>\n",
       "      <th>annual_inc</th>\n",
       "      <th>loan_status</th>\n",
       "      <th>addr_state</th>\n",
       "      <th>last_pymnt_amnt</th>\n",
       "      <th>avg_cur_bal</th>\n",
       "      <th>num_actv_rev_tl</th>\n",
       "    </tr>\n",
       "  </thead>\n",
       "  <tbody>\n",
       "    <tr>\n",
       "      <th>47</th>\n",
       "      <td>12000</td>\n",
       "      <td>12000</td>\n",
       "      <td>10</td>\n",
       "      <td>6</td>\n",
       "      <td>10</td>\n",
       "      <td>10</td>\n",
       "      <td>2</td>\n",
       "      <td>28</td>\n",
       "      <td>11857.45</td>\n",
       "      <td>2815.0</td>\n",
       "      <td>2</td>\n",
       "    </tr>\n",
       "    <tr>\n",
       "      <th>30</th>\n",
       "      <td>25000</td>\n",
       "      <td>25000</td>\n",
       "      <td>19</td>\n",
       "      <td>4</td>\n",
       "      <td>19</td>\n",
       "      <td>19</td>\n",
       "      <td>2</td>\n",
       "      <td>3</td>\n",
       "      <td>765.36</td>\n",
       "      <td>2796.0</td>\n",
       "      <td>4</td>\n",
       "    </tr>\n",
       "    <tr>\n",
       "      <th>45</th>\n",
       "      <td>4900</td>\n",
       "      <td>4900</td>\n",
       "      <td>10</td>\n",
       "      <td>6</td>\n",
       "      <td>10</td>\n",
       "      <td>10</td>\n",
       "      <td>2</td>\n",
       "      <td>2</td>\n",
       "      <td>4737.09</td>\n",
       "      <td>46495.0</td>\n",
       "      <td>3</td>\n",
       "    </tr>\n",
       "    <tr>\n",
       "      <th>67</th>\n",
       "      <td>5000</td>\n",
       "      <td>5000</td>\n",
       "      <td>16</td>\n",
       "      <td>5</td>\n",
       "      <td>16</td>\n",
       "      <td>16</td>\n",
       "      <td>2</td>\n",
       "      <td>28</td>\n",
       "      <td>67.25</td>\n",
       "      <td>21824.0</td>\n",
       "      <td>1</td>\n",
       "    </tr>\n",
       "    <tr>\n",
       "      <th>36</th>\n",
       "      <td>7000</td>\n",
       "      <td>7000</td>\n",
       "      <td>13</td>\n",
       "      <td>5</td>\n",
       "      <td>13</td>\n",
       "      <td>13</td>\n",
       "      <td>2</td>\n",
       "      <td>12</td>\n",
       "      <td>7036.91</td>\n",
       "      <td>10489.0</td>\n",
       "      <td>4</td>\n",
       "    </tr>\n",
       "  </tbody>\n",
       "</table>\n",
       "</div>"
      ],
      "text/plain": [
       "    loan_amnt  funded_amnt  installment  grade  emp_length  annual_inc  \\\n",
       "47      12000        12000           10      6          10          10   \n",
       "30      25000        25000           19      4          19          19   \n",
       "45       4900         4900           10      6          10          10   \n",
       "67       5000         5000           16      5          16          16   \n",
       "36       7000         7000           13      5          13          13   \n",
       "\n",
       "    loan_status  addr_state  last_pymnt_amnt  avg_cur_bal  num_actv_rev_tl  \n",
       "47            2          28         11857.45       2815.0                2  \n",
       "30            2           3           765.36       2796.0                4  \n",
       "45            2           2          4737.09      46495.0                3  \n",
       "67            2          28            67.25      21824.0                1  \n",
       "36            2          12          7036.91      10489.0                4  "
      ]
     },
     "execution_count": 20,
     "metadata": {},
     "output_type": "execute_result"
    }
   ],
   "source": [
    "X_test.head()"
   ]
  },
  {
   "cell_type": "code",
   "execution_count": 21,
   "metadata": {},
   "outputs": [
    {
     "data": {
      "text/plain": [
       "37     7\n",
       "54     8\n",
       "48    23\n",
       "31    11\n",
       "8     17\n",
       "Name: int_rate, dtype: int64"
      ]
     },
     "execution_count": 21,
     "metadata": {},
     "output_type": "execute_result"
    }
   ],
   "source": [
    "y_train.head()"
   ]
  },
  {
   "cell_type": "code",
   "execution_count": 22,
   "metadata": {},
   "outputs": [
    {
     "data": {
      "text/plain": [
       "(17,)"
      ]
     },
     "execution_count": 22,
     "metadata": {},
     "output_type": "execute_result"
    }
   ],
   "source": [
    "y_test.shape"
   ]
  },
  {
   "cell_type": "code",
   "execution_count": 23,
   "metadata": {
    "scrolled": true
   },
   "outputs": [
    {
     "data": {
      "text/plain": [
       "RandomForestClassifier(bootstrap=True, class_weight=None, criterion='gini',\n",
       "                       max_depth=None, max_features='auto', max_leaf_nodes=None,\n",
       "                       min_impurity_decrease=0.0, min_impurity_split=1e-07,\n",
       "                       min_samples_leaf=1, min_samples_split=2,\n",
       "                       min_weight_fraction_leaf=0.0, n_estimators=10, n_jobs=2,\n",
       "                       oob_score=False, random_state=0, verbose=0,\n",
       "                       warm_start=False)"
      ]
     },
     "execution_count": 23,
     "metadata": {},
     "output_type": "execute_result"
    }
   ],
   "source": [
    "clf = RandomForestClassifier(n_jobs=2, random_state=0)\n",
    "\n",
    "clf.fit(X_train, y_train)\n",
    "RandomForestClassifier(bootstrap=True, class_weight=None, criterion='gini',\n",
    "            max_depth=None, max_features='auto', max_leaf_nodes=None,\n",
    "            min_impurity_split=1e-07, min_samples_leaf=1,\n",
    "            min_samples_split=2, min_weight_fraction_leaf=0.0,\n",
    "            n_estimators=10, n_jobs=2, oob_score=False, random_state=0,\n",
    "            verbose=0, warm_start=False)"
   ]
  },
  {
   "cell_type": "code",
   "execution_count": 24,
   "metadata": {},
   "outputs": [],
   "source": [
    "preds = clf.predict(X_test)"
   ]
  },
  {
   "cell_type": "code",
   "execution_count": 25,
   "metadata": {
    "scrolled": true
   },
   "outputs": [
    {
     "data": {
      "text/html": [
       "<div>\n",
       "<style scoped>\n",
       "    .dataframe tbody tr th:only-of-type {\n",
       "        vertical-align: middle;\n",
       "    }\n",
       "\n",
       "    .dataframe tbody tr th {\n",
       "        vertical-align: top;\n",
       "    }\n",
       "\n",
       "    .dataframe thead th {\n",
       "        text-align: right;\n",
       "    }\n",
       "</style>\n",
       "<table border=\"1\" class=\"dataframe\">\n",
       "  <thead>\n",
       "    <tr style=\"text-align: right;\">\n",
       "      <th>Predicted Result</th>\n",
       "      <th>7</th>\n",
       "      <th>10</th>\n",
       "      <th>11</th>\n",
       "      <th>13</th>\n",
       "      <th>14</th>\n",
       "      <th>16</th>\n",
       "      <th>17</th>\n",
       "      <th>18</th>\n",
       "    </tr>\n",
       "    <tr>\n",
       "      <th>Actual Result</th>\n",
       "      <th></th>\n",
       "      <th></th>\n",
       "      <th></th>\n",
       "      <th></th>\n",
       "      <th></th>\n",
       "      <th></th>\n",
       "      <th></th>\n",
       "      <th></th>\n",
       "    </tr>\n",
       "  </thead>\n",
       "  <tbody>\n",
       "    <tr>\n",
       "      <th>7</th>\n",
       "      <td>3</td>\n",
       "      <td>0</td>\n",
       "      <td>0</td>\n",
       "      <td>0</td>\n",
       "      <td>0</td>\n",
       "      <td>0</td>\n",
       "      <td>0</td>\n",
       "      <td>0</td>\n",
       "    </tr>\n",
       "    <tr>\n",
       "      <th>10</th>\n",
       "      <td>0</td>\n",
       "      <td>3</td>\n",
       "      <td>0</td>\n",
       "      <td>0</td>\n",
       "      <td>0</td>\n",
       "      <td>0</td>\n",
       "      <td>0</td>\n",
       "      <td>0</td>\n",
       "    </tr>\n",
       "    <tr>\n",
       "      <th>11</th>\n",
       "      <td>0</td>\n",
       "      <td>0</td>\n",
       "      <td>2</td>\n",
       "      <td>0</td>\n",
       "      <td>0</td>\n",
       "      <td>0</td>\n",
       "      <td>0</td>\n",
       "      <td>0</td>\n",
       "    </tr>\n",
       "    <tr>\n",
       "      <th>12</th>\n",
       "      <td>0</td>\n",
       "      <td>0</td>\n",
       "      <td>3</td>\n",
       "      <td>0</td>\n",
       "      <td>1</td>\n",
       "      <td>0</td>\n",
       "      <td>0</td>\n",
       "      <td>0</td>\n",
       "    </tr>\n",
       "    <tr>\n",
       "      <th>13</th>\n",
       "      <td>0</td>\n",
       "      <td>0</td>\n",
       "      <td>0</td>\n",
       "      <td>1</td>\n",
       "      <td>0</td>\n",
       "      <td>0</td>\n",
       "      <td>0</td>\n",
       "      <td>0</td>\n",
       "    </tr>\n",
       "    <tr>\n",
       "      <th>16</th>\n",
       "      <td>0</td>\n",
       "      <td>0</td>\n",
       "      <td>0</td>\n",
       "      <td>0</td>\n",
       "      <td>0</td>\n",
       "      <td>1</td>\n",
       "      <td>0</td>\n",
       "      <td>0</td>\n",
       "    </tr>\n",
       "    <tr>\n",
       "      <th>17</th>\n",
       "      <td>0</td>\n",
       "      <td>0</td>\n",
       "      <td>0</td>\n",
       "      <td>0</td>\n",
       "      <td>0</td>\n",
       "      <td>0</td>\n",
       "      <td>2</td>\n",
       "      <td>0</td>\n",
       "    </tr>\n",
       "    <tr>\n",
       "      <th>19</th>\n",
       "      <td>0</td>\n",
       "      <td>0</td>\n",
       "      <td>0</td>\n",
       "      <td>0</td>\n",
       "      <td>0</td>\n",
       "      <td>0</td>\n",
       "      <td>0</td>\n",
       "      <td>1</td>\n",
       "    </tr>\n",
       "  </tbody>\n",
       "</table>\n",
       "</div>"
      ],
      "text/plain": [
       "Predicted Result  7   10  11  13  14  16  17  18\n",
       "Actual Result                                   \n",
       "7                  3   0   0   0   0   0   0   0\n",
       "10                 0   3   0   0   0   0   0   0\n",
       "11                 0   0   2   0   0   0   0   0\n",
       "12                 0   0   3   0   1   0   0   0\n",
       "13                 0   0   0   1   0   0   0   0\n",
       "16                 0   0   0   0   0   1   0   0\n",
       "17                 0   0   0   0   0   0   2   0\n",
       "19                 0   0   0   0   0   0   0   1"
      ]
     },
     "execution_count": 25,
     "metadata": {},
     "output_type": "execute_result"
    }
   ],
   "source": [
    "pd.crosstab(y_test, preds, rownames=['Actual Result'], colnames=['Predicted Result'])"
   ]
  },
  {
   "cell_type": "code",
   "execution_count": 26,
   "metadata": {},
   "outputs": [
    {
     "name": "stdout",
     "output_type": "stream",
     "text": [
      "Accuracy: 0.7058823529411765\n"
     ]
    }
   ],
   "source": [
    "#2 \n",
    "\n",
    "# Feature Scaling (Normalize x)\n",
    "sc = StandardScaler()\n",
    "X_train = sc.fit_transform(X_train)\n",
    "X_test = sc.transform(X_test)\n",
    "\n",
    "#RF\n",
    "clf=RandomForestClassifier(n_estimators=300)\n",
    "\n",
    "clf.fit(X_train,y_train)\n",
    "\n",
    "# Make predictions on test data\n",
    "y_pred=clf.predict(X_test)\n",
    "\n",
    "from sklearn import metrics\n",
    "# Model Accuracy, how often is the classifier correct?\n",
    "print(\"Accuracy:\",metrics.accuracy_score(y_test, y_pred))"
   ]
  },
  {
   "cell_type": "code",
   "execution_count": 27,
   "metadata": {},
   "outputs": [
    {
     "name": "stdout",
     "output_type": "stream",
     "text": [
      "Testing Accuracy: 0.64706\n",
      "Training Accuracy: 1.00000\n",
      "\n"
     ]
    }
   ],
   "source": [
    "model2 = RandomForestClassifier(n_estimators=300,max_depth=800)\n",
    "model2.fit(X_train,y_train)\n",
    "predictions2 = model2.predict(X_test)\n",
    "\n",
    "print(('Testing Accuracy: %.5f') % (accuracy_score(y_test, predictions2)))\n",
    "print(('Training Accuracy: %.5f') % (accuracy_score(y_train, model2.predict(X_train))))\n",
    "print()"
   ]
  },
  {
   "cell_type": "code",
   "execution_count": 28,
   "metadata": {},
   "outputs": [],
   "source": [
    "# reference: https://towardsdatascience.com/random-forest-in-python-24d0893d51c0\n",
    "def pred_score(model):\n",
    "    pred = model.predict(X_test)\n",
    "    # Calculate the absolute errors\n",
    "    errors = abs(pred - y_test)\n",
    "    # Calculate mean absolute percentage error\n",
    "    mape = 100 * (errors / y_test)\n",
    "    accuracy = 100 - np.mean(mape)\n",
    "    return round(accuracy, 2)"
   ]
  },
  {
   "cell_type": "code",
   "execution_count": 29,
   "metadata": {},
   "outputs": [
    {
     "name": "stdout",
     "output_type": "stream",
     "text": [
      "Accuracy of Logistic regression classifier on training set: 45.83%.\n"
     ]
    }
   ],
   "source": [
    "from sklearn.linear_model import LogisticRegression\n",
    "\n",
    "logreg = LogisticRegression(C=1.0, class_weight=None, dual=False, fit_intercept=True,\n",
    "          intercept_scaling=1, max_iter=110, multi_class='ovr', n_jobs=1,\n",
    "          penalty='l1', random_state=None, solver='liblinear', tol=0.0001,\n",
    "          verbose=0, warm_start=False)\n",
    "\n",
    "logreg.fit(X_train, y_train)\n",
    "print(f'Accuracy of Logistic regression classifier on training set: {round(logreg.score(X_train, y_train)*100,2)}%.')"
   ]
  },
  {
   "cell_type": "code",
   "execution_count": 30,
   "metadata": {},
   "outputs": [
    {
     "name": "stdout",
     "output_type": "stream",
     "text": [
      "Accuracy of K-NN classifier on training set: 50.0%.\n"
     ]
    }
   ],
   "source": [
    "from sklearn.neighbors import KNeighborsClassifier\n",
    "\n",
    "knn = KNeighborsClassifier(algorithm='auto', leaf_size=15, metric='minkowski',\n",
    " metric_params=None, n_jobs=1, n_neighbors=3, p=2,\n",
    " weights='uniform')\n",
    "\n",
    "knn.fit(X_train, y_train)\n",
    "print(f'Accuracy of K-NN classifier on training set: {round(knn.score(X_train, y_train)*100,2)}%.')"
   ]
  },
  {
   "cell_type": "code",
   "execution_count": 31,
   "metadata": {},
   "outputs": [
    {
     "name": "stdout",
     "output_type": "stream",
     "text": [
      "Accuracy of Decision Tree classifier on training set: 100.0%.\n"
     ]
    }
   ],
   "source": [
    "from sklearn.tree import DecisionTreeClassifier\n",
    "\n",
    "dt = DecisionTreeClassifier()\n",
    "\n",
    "dt.fit(X_train, y_train)\n",
    "print(f'Accuracy of Decision Tree classifier on training set: {round(dt.score(X_train, y_train)*100,2)}%.')"
   ]
  },
  {
   "cell_type": "code",
   "execution_count": 32,
   "metadata": {},
   "outputs": [
    {
     "name": "stdout",
     "output_type": "stream",
     "text": [
      "Accuracy of SVM classifier on training set: 89.58%.\n"
     ]
    }
   ],
   "source": [
    "from sklearn.svm import SVC\n",
    "\n",
    "svm = SVC(kernel='linear')\n",
    "\n",
    "svm.fit(X_train, y_train)\n",
    "print(f'Accuracy of SVM classifier on training set: {round(svm.score(X_train, y_train)*100,2)}%.')"
   ]
  },
  {
   "cell_type": "code",
   "execution_count": null,
   "metadata": {},
   "outputs": [],
   "source": []
  },
  {
   "cell_type": "code",
   "execution_count": null,
   "metadata": {},
   "outputs": [],
   "source": []
  }
 ],
 "metadata": {
  "kernelspec": {
   "display_name": "Python 3",
   "language": "python",
   "name": "python3"
  },
  "language_info": {
   "codemirror_mode": {
    "name": "ipython",
    "version": 3
   },
   "file_extension": ".py",
   "mimetype": "text/x-python",
   "name": "python",
   "nbconvert_exporter": "python",
   "pygments_lexer": "ipython3",
   "version": "3.7.3"
  }
 },
 "nbformat": 4,
 "nbformat_minor": 2
}
