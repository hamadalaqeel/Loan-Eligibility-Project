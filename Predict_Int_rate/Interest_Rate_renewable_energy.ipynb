{
 "cells": [
  {
   "cell_type": "markdown",
   "metadata": {},
   "source": [
    "# Business Understanding\n",
    "### The purpose of this notebook is predict the interset rate for the credit card dataset"
   ]
  },
  {
   "cell_type": "markdown",
   "metadata": {},
   "source": [
    "## Import necessary Libraries "
   ]
  },
  {
   "cell_type": "code",
   "execution_count": 1,
   "metadata": {},
   "outputs": [],
   "source": [
    "\n",
    "import pandas as pd\n",
    "import numpy as np\n",
    "\n",
    "import warnings # ignore warnings\n",
    "warnings.simplefilter(\"ignore\")      #Assign predictors & target\n",
    "from sklearn import preprocessing     \n",
    "\n",
    "from sklearn.model_selection import train_test_split # Split data\n",
    "\n",
    "#Models\n",
    "from sklearn import model_selection\n",
    "from sklearn.metrics import accuracy_score\n",
    "\n",
    "\n",
    "from sklearn.ensemble import RandomForestClassifier\n",
    "from sklearn.preprocessing import StandardScaler   # Feature Scaling for RF\n",
    "\n",
    "from sklearn.preprocessing import MinMaxScaler\n",
    "\n",
    "\n",
    "from sklearn.svm import SVC\n",
    "from sklearn.model_selection import GridSearchCV\n",
    "\n",
    "from sklearn.model_selection import train_test_split\n",
    "\n",
    "import sklearn \n",
    "from sklearn.metrics import classification_report, confusion_matrix\n",
    "\n",
    "from sklearn.model_selection import cross_val_score\n"
   ]
  },
  {
   "cell_type": "markdown",
   "metadata": {},
   "source": [
    "# Preproccessing"
   ]
  },
  {
   "cell_type": "code",
   "execution_count": 2,
   "metadata": {},
   "outputs": [
    {
     "data": {
      "text/html": [
       "<div>\n",
       "<style scoped>\n",
       "    .dataframe tbody tr th:only-of-type {\n",
       "        vertical-align: middle;\n",
       "    }\n",
       "\n",
       "    .dataframe tbody tr th {\n",
       "        vertical-align: top;\n",
       "    }\n",
       "\n",
       "    .dataframe thead th {\n",
       "        text-align: right;\n",
       "    }\n",
       "</style>\n",
       "<table border=\"1\" class=\"dataframe\">\n",
       "  <thead>\n",
       "    <tr style=\"text-align: right;\">\n",
       "      <th></th>\n",
       "      <th>Column</th>\n",
       "      <th>loan_amnt</th>\n",
       "      <th>funded_amnt</th>\n",
       "      <th>int_rate</th>\n",
       "      <th>installment</th>\n",
       "      <th>grade</th>\n",
       "      <th>emp_length</th>\n",
       "      <th>annual_inc</th>\n",
       "      <th>loan_status</th>\n",
       "      <th>purpose</th>\n",
       "      <th>addr_state</th>\n",
       "      <th>last_pymnt_amnt</th>\n",
       "      <th>avg_cur_bal</th>\n",
       "      <th>num_actv_rev_tl</th>\n",
       "    </tr>\n",
       "  </thead>\n",
       "  <tbody>\n",
       "    <tr>\n",
       "      <th>0</th>\n",
       "      <td>454</td>\n",
       "      <td>1500</td>\n",
       "      <td>1500</td>\n",
       "      <td>16.40</td>\n",
       "      <td>53.04</td>\n",
       "      <td>5</td>\n",
       "      <td>1.0</td>\n",
       "      <td>135000.0</td>\n",
       "      <td>Fully Paid</td>\n",
       "      <td>renewable_energy</td>\n",
       "      <td>MI</td>\n",
       "      <td>1520.50</td>\n",
       "      <td>14766.0</td>\n",
       "      <td>4</td>\n",
       "    </tr>\n",
       "    <tr>\n",
       "      <th>1</th>\n",
       "      <td>562</td>\n",
       "      <td>1000</td>\n",
       "      <td>1000</td>\n",
       "      <td>22.50</td>\n",
       "      <td>38.45</td>\n",
       "      <td>4</td>\n",
       "      <td>3.0</td>\n",
       "      <td>40000.0</td>\n",
       "      <td>Fully Paid</td>\n",
       "      <td>renewable_energy</td>\n",
       "      <td>NY</td>\n",
       "      <td>858.76</td>\n",
       "      <td>3744.0</td>\n",
       "      <td>2</td>\n",
       "    </tr>\n",
       "    <tr>\n",
       "      <th>2</th>\n",
       "      <td>978</td>\n",
       "      <td>4275</td>\n",
       "      <td>4275</td>\n",
       "      <td>11.02</td>\n",
       "      <td>140.00</td>\n",
       "      <td>6</td>\n",
       "      <td>5.0</td>\n",
       "      <td>116129.0</td>\n",
       "      <td>Fully Paid</td>\n",
       "      <td>renewable_energy</td>\n",
       "      <td>FL</td>\n",
       "      <td>27.05</td>\n",
       "      <td>19748.0</td>\n",
       "      <td>9</td>\n",
       "    </tr>\n",
       "    <tr>\n",
       "      <th>3</th>\n",
       "      <td>1126</td>\n",
       "      <td>10000</td>\n",
       "      <td>10000</td>\n",
       "      <td>12.40</td>\n",
       "      <td>334.06</td>\n",
       "      <td>6</td>\n",
       "      <td>2.0</td>\n",
       "      <td>48000.0</td>\n",
       "      <td>Fully Paid</td>\n",
       "      <td>renewable_energy</td>\n",
       "      <td>CA</td>\n",
       "      <td>9886.65</td>\n",
       "      <td>1029.0</td>\n",
       "      <td>2</td>\n",
       "    </tr>\n",
       "    <tr>\n",
       "      <th>4</th>\n",
       "      <td>3312</td>\n",
       "      <td>1200</td>\n",
       "      <td>1200</td>\n",
       "      <td>27.27</td>\n",
       "      <td>49.17</td>\n",
       "      <td>3</td>\n",
       "      <td>10.0</td>\n",
       "      <td>68000.0</td>\n",
       "      <td>Fully Paid</td>\n",
       "      <td>renewable_energy</td>\n",
       "      <td>CT</td>\n",
       "      <td>1161.06</td>\n",
       "      <td>4434.0</td>\n",
       "      <td>8</td>\n",
       "    </tr>\n",
       "    <tr>\n",
       "      <th>5</th>\n",
       "      <td>4175</td>\n",
       "      <td>1000</td>\n",
       "      <td>1000</td>\n",
       "      <td>7.56</td>\n",
       "      <td>31.14</td>\n",
       "      <td>7</td>\n",
       "      <td>10.0</td>\n",
       "      <td>65000.0</td>\n",
       "      <td>Fully Paid</td>\n",
       "      <td>renewable_energy</td>\n",
       "      <td>NJ</td>\n",
       "      <td>986.69</td>\n",
       "      <td>16537.0</td>\n",
       "      <td>7</td>\n",
       "    </tr>\n",
       "    <tr>\n",
       "      <th>6</th>\n",
       "      <td>4184</td>\n",
       "      <td>10000</td>\n",
       "      <td>10000</td>\n",
       "      <td>16.91</td>\n",
       "      <td>356.08</td>\n",
       "      <td>5</td>\n",
       "      <td>6.0</td>\n",
       "      <td>65000.0</td>\n",
       "      <td>Fully Paid</td>\n",
       "      <td>renewable_energy</td>\n",
       "      <td>CA</td>\n",
       "      <td>10015.78</td>\n",
       "      <td>1755.0</td>\n",
       "      <td>9</td>\n",
       "    </tr>\n",
       "  </tbody>\n",
       "</table>\n",
       "</div>"
      ],
      "text/plain": [
       "   Column  loan_amnt  funded_amnt  int_rate  installment  grade  emp_length  \\\n",
       "0     454       1500         1500     16.40        53.04      5         1.0   \n",
       "1     562       1000         1000     22.50        38.45      4         3.0   \n",
       "2     978       4275         4275     11.02       140.00      6         5.0   \n",
       "3    1126      10000        10000     12.40       334.06      6         2.0   \n",
       "4    3312       1200         1200     27.27        49.17      3        10.0   \n",
       "5    4175       1000         1000      7.56        31.14      7        10.0   \n",
       "6    4184      10000        10000     16.91       356.08      5         6.0   \n",
       "\n",
       "   annual_inc loan_status           purpose addr_state  last_pymnt_amnt  \\\n",
       "0    135000.0  Fully Paid  renewable_energy         MI          1520.50   \n",
       "1     40000.0  Fully Paid  renewable_energy         NY           858.76   \n",
       "2    116129.0  Fully Paid  renewable_energy         FL            27.05   \n",
       "3     48000.0  Fully Paid  renewable_energy         CA          9886.65   \n",
       "4     68000.0  Fully Paid  renewable_energy         CT          1161.06   \n",
       "5     65000.0  Fully Paid  renewable_energy         NJ           986.69   \n",
       "6     65000.0  Fully Paid  renewable_energy         CA         10015.78   \n",
       "\n",
       "   avg_cur_bal  num_actv_rev_tl  \n",
       "0      14766.0                4  \n",
       "1       3744.0                2  \n",
       "2      19748.0                9  \n",
       "3       1029.0                2  \n",
       "4       4434.0                8  \n",
       "5      16537.0                7  \n",
       "6       1755.0                9  "
      ]
     },
     "execution_count": 2,
     "metadata": {},
     "output_type": "execute_result"
    }
   ],
   "source": [
    "renewable_energy = pd.read_csv('datasets/renewable_energy.csv')\n",
    "renewable_energy.head(n=10)"
   ]
  },
  {
   "cell_type": "code",
   "execution_count": 3,
   "metadata": {},
   "outputs": [
    {
     "data": {
      "text/plain": [
       "(7, 14)"
      ]
     },
     "execution_count": 3,
     "metadata": {},
     "output_type": "execute_result"
    }
   ],
   "source": [
    "renewable_energy.shape"
   ]
  },
  {
   "cell_type": "markdown",
   "metadata": {},
   "source": [
    "# Since it has the same columns as Credit_card dataset, we will follow the same process"
   ]
  },
  {
   "cell_type": "code",
   "execution_count": 4,
   "metadata": {},
   "outputs": [
    {
     "name": "stdout",
     "output_type": "stream",
     "text": [
      "<class 'pandas.core.frame.DataFrame'>\n",
      "RangeIndex: 7 entries, 0 to 6\n",
      "Data columns (total 14 columns):\n",
      "Column             7 non-null int64\n",
      "loan_amnt          7 non-null int64\n",
      "funded_amnt        7 non-null int64\n",
      "int_rate           7 non-null float64\n",
      "installment        7 non-null float64\n",
      "grade              7 non-null int64\n",
      "emp_length         7 non-null float64\n",
      "annual_inc         7 non-null float64\n",
      "loan_status        7 non-null object\n",
      "purpose            7 non-null object\n",
      "addr_state         7 non-null object\n",
      "last_pymnt_amnt    7 non-null float64\n",
      "avg_cur_bal        7 non-null float64\n",
      "num_actv_rev_tl    7 non-null int64\n",
      "dtypes: float64(6), int64(5), object(3)\n",
      "memory usage: 864.0+ bytes\n"
     ]
    }
   ],
   "source": [
    "renewable_energy.info()"
   ]
  },
  {
   "cell_type": "code",
   "execution_count": 5,
   "metadata": {},
   "outputs": [],
   "source": [
    "renewable_energy.dropna(inplace = True)"
   ]
  },
  {
   "cell_type": "code",
   "execution_count": 6,
   "metadata": {},
   "outputs": [],
   "source": [
    "renewable_energy['int_rate'] = renewable_energy.int_rate.astype(int)\n",
    "renewable_energy['installment'] = renewable_energy.int_rate.astype(int)\n",
    "renewable_energy['emp_length'] = renewable_energy.int_rate.astype(int)\n",
    "renewable_energy['annual_inc'] = renewable_energy.int_rate.astype(int)\n",
    "renewable_energy['int_rate'] = renewable_energy.int_rate.astype(int)\n",
    "renewable_energy['int_rate'] = renewable_energy.int_rate.astype(int)"
   ]
  },
  {
   "cell_type": "code",
   "execution_count": 7,
   "metadata": {},
   "outputs": [
    {
     "name": "stdout",
     "output_type": "stream",
     "text": [
      "<class 'pandas.core.frame.DataFrame'>\n",
      "Int64Index: 7 entries, 0 to 6\n",
      "Data columns (total 14 columns):\n",
      "Column             7 non-null int64\n",
      "loan_amnt          7 non-null int64\n",
      "funded_amnt        7 non-null int64\n",
      "int_rate           7 non-null int64\n",
      "installment        7 non-null int64\n",
      "grade              7 non-null int64\n",
      "emp_length         7 non-null int64\n",
      "annual_inc         7 non-null int64\n",
      "loan_status        7 non-null object\n",
      "purpose            7 non-null object\n",
      "addr_state         7 non-null object\n",
      "last_pymnt_amnt    7 non-null float64\n",
      "avg_cur_bal        7 non-null float64\n",
      "num_actv_rev_tl    7 non-null int64\n",
      "dtypes: float64(2), int64(9), object(3)\n",
      "memory usage: 840.0+ bytes\n"
     ]
    }
   ],
   "source": [
    "renewable_energy.info()"
   ]
  },
  {
   "cell_type": "code",
   "execution_count": 8,
   "metadata": {},
   "outputs": [],
   "source": [
    "renewable_energy.drop('purpose', axis=1, inplace=True)"
   ]
  },
  {
   "cell_type": "code",
   "execution_count": 9,
   "metadata": {},
   "outputs": [
    {
     "data": {
      "text/html": [
       "<div>\n",
       "<style scoped>\n",
       "    .dataframe tbody tr th:only-of-type {\n",
       "        vertical-align: middle;\n",
       "    }\n",
       "\n",
       "    .dataframe tbody tr th {\n",
       "        vertical-align: top;\n",
       "    }\n",
       "\n",
       "    .dataframe thead th {\n",
       "        text-align: right;\n",
       "    }\n",
       "</style>\n",
       "<table border=\"1\" class=\"dataframe\">\n",
       "  <thead>\n",
       "    <tr style=\"text-align: right;\">\n",
       "      <th></th>\n",
       "      <th>Column</th>\n",
       "      <th>loan_amnt</th>\n",
       "      <th>funded_amnt</th>\n",
       "      <th>int_rate</th>\n",
       "      <th>installment</th>\n",
       "      <th>grade</th>\n",
       "      <th>emp_length</th>\n",
       "      <th>annual_inc</th>\n",
       "      <th>loan_status</th>\n",
       "      <th>addr_state</th>\n",
       "      <th>last_pymnt_amnt</th>\n",
       "      <th>avg_cur_bal</th>\n",
       "      <th>num_actv_rev_tl</th>\n",
       "    </tr>\n",
       "  </thead>\n",
       "  <tbody>\n",
       "    <tr>\n",
       "      <th>0</th>\n",
       "      <td>454</td>\n",
       "      <td>1500</td>\n",
       "      <td>1500</td>\n",
       "      <td>16</td>\n",
       "      <td>16</td>\n",
       "      <td>5</td>\n",
       "      <td>16</td>\n",
       "      <td>16</td>\n",
       "      <td>Fully Paid</td>\n",
       "      <td>MI</td>\n",
       "      <td>1520.50</td>\n",
       "      <td>14766.0</td>\n",
       "      <td>4</td>\n",
       "    </tr>\n",
       "    <tr>\n",
       "      <th>1</th>\n",
       "      <td>562</td>\n",
       "      <td>1000</td>\n",
       "      <td>1000</td>\n",
       "      <td>22</td>\n",
       "      <td>22</td>\n",
       "      <td>4</td>\n",
       "      <td>22</td>\n",
       "      <td>22</td>\n",
       "      <td>Fully Paid</td>\n",
       "      <td>NY</td>\n",
       "      <td>858.76</td>\n",
       "      <td>3744.0</td>\n",
       "      <td>2</td>\n",
       "    </tr>\n",
       "    <tr>\n",
       "      <th>2</th>\n",
       "      <td>978</td>\n",
       "      <td>4275</td>\n",
       "      <td>4275</td>\n",
       "      <td>11</td>\n",
       "      <td>11</td>\n",
       "      <td>6</td>\n",
       "      <td>11</td>\n",
       "      <td>11</td>\n",
       "      <td>Fully Paid</td>\n",
       "      <td>FL</td>\n",
       "      <td>27.05</td>\n",
       "      <td>19748.0</td>\n",
       "      <td>9</td>\n",
       "    </tr>\n",
       "    <tr>\n",
       "      <th>3</th>\n",
       "      <td>1126</td>\n",
       "      <td>10000</td>\n",
       "      <td>10000</td>\n",
       "      <td>12</td>\n",
       "      <td>12</td>\n",
       "      <td>6</td>\n",
       "      <td>12</td>\n",
       "      <td>12</td>\n",
       "      <td>Fully Paid</td>\n",
       "      <td>CA</td>\n",
       "      <td>9886.65</td>\n",
       "      <td>1029.0</td>\n",
       "      <td>2</td>\n",
       "    </tr>\n",
       "    <tr>\n",
       "      <th>4</th>\n",
       "      <td>3312</td>\n",
       "      <td>1200</td>\n",
       "      <td>1200</td>\n",
       "      <td>27</td>\n",
       "      <td>27</td>\n",
       "      <td>3</td>\n",
       "      <td>27</td>\n",
       "      <td>27</td>\n",
       "      <td>Fully Paid</td>\n",
       "      <td>CT</td>\n",
       "      <td>1161.06</td>\n",
       "      <td>4434.0</td>\n",
       "      <td>8</td>\n",
       "    </tr>\n",
       "  </tbody>\n",
       "</table>\n",
       "</div>"
      ],
      "text/plain": [
       "   Column  loan_amnt  funded_amnt  int_rate  installment  grade  emp_length  \\\n",
       "0     454       1500         1500        16           16      5          16   \n",
       "1     562       1000         1000        22           22      4          22   \n",
       "2     978       4275         4275        11           11      6          11   \n",
       "3    1126      10000        10000        12           12      6          12   \n",
       "4    3312       1200         1200        27           27      3          27   \n",
       "\n",
       "   annual_inc loan_status addr_state  last_pymnt_amnt  avg_cur_bal  \\\n",
       "0          16  Fully Paid         MI          1520.50      14766.0   \n",
       "1          22  Fully Paid         NY           858.76       3744.0   \n",
       "2          11  Fully Paid         FL            27.05      19748.0   \n",
       "3          12  Fully Paid         CA          9886.65       1029.0   \n",
       "4          27  Fully Paid         CT          1161.06       4434.0   \n",
       "\n",
       "   num_actv_rev_tl  \n",
       "0                4  \n",
       "1                2  \n",
       "2                9  \n",
       "3                2  \n",
       "4                8  "
      ]
     },
     "execution_count": 9,
     "metadata": {},
     "output_type": "execute_result"
    }
   ],
   "source": [
    "renewable_energy.head()"
   ]
  },
  {
   "cell_type": "code",
   "execution_count": 10,
   "metadata": {},
   "outputs": [],
   "source": [
    "renewable_energy.drop('Column', axis=1, inplace=True)"
   ]
  },
  {
   "cell_type": "code",
   "execution_count": 11,
   "metadata": {},
   "outputs": [
    {
     "data": {
      "text/html": [
       "<div>\n",
       "<style scoped>\n",
       "    .dataframe tbody tr th:only-of-type {\n",
       "        vertical-align: middle;\n",
       "    }\n",
       "\n",
       "    .dataframe tbody tr th {\n",
       "        vertical-align: top;\n",
       "    }\n",
       "\n",
       "    .dataframe thead th {\n",
       "        text-align: right;\n",
       "    }\n",
       "</style>\n",
       "<table border=\"1\" class=\"dataframe\">\n",
       "  <thead>\n",
       "    <tr style=\"text-align: right;\">\n",
       "      <th></th>\n",
       "      <th>loan_amnt</th>\n",
       "      <th>funded_amnt</th>\n",
       "      <th>int_rate</th>\n",
       "      <th>installment</th>\n",
       "      <th>grade</th>\n",
       "      <th>emp_length</th>\n",
       "      <th>annual_inc</th>\n",
       "      <th>loan_status</th>\n",
       "      <th>addr_state</th>\n",
       "      <th>last_pymnt_amnt</th>\n",
       "      <th>avg_cur_bal</th>\n",
       "      <th>num_actv_rev_tl</th>\n",
       "    </tr>\n",
       "  </thead>\n",
       "  <tbody>\n",
       "    <tr>\n",
       "      <th>0</th>\n",
       "      <td>1500</td>\n",
       "      <td>1500</td>\n",
       "      <td>16</td>\n",
       "      <td>16</td>\n",
       "      <td>5</td>\n",
       "      <td>16</td>\n",
       "      <td>16</td>\n",
       "      <td>Fully Paid</td>\n",
       "      <td>MI</td>\n",
       "      <td>1520.50</td>\n",
       "      <td>14766.0</td>\n",
       "      <td>4</td>\n",
       "    </tr>\n",
       "    <tr>\n",
       "      <th>1</th>\n",
       "      <td>1000</td>\n",
       "      <td>1000</td>\n",
       "      <td>22</td>\n",
       "      <td>22</td>\n",
       "      <td>4</td>\n",
       "      <td>22</td>\n",
       "      <td>22</td>\n",
       "      <td>Fully Paid</td>\n",
       "      <td>NY</td>\n",
       "      <td>858.76</td>\n",
       "      <td>3744.0</td>\n",
       "      <td>2</td>\n",
       "    </tr>\n",
       "    <tr>\n",
       "      <th>2</th>\n",
       "      <td>4275</td>\n",
       "      <td>4275</td>\n",
       "      <td>11</td>\n",
       "      <td>11</td>\n",
       "      <td>6</td>\n",
       "      <td>11</td>\n",
       "      <td>11</td>\n",
       "      <td>Fully Paid</td>\n",
       "      <td>FL</td>\n",
       "      <td>27.05</td>\n",
       "      <td>19748.0</td>\n",
       "      <td>9</td>\n",
       "    </tr>\n",
       "    <tr>\n",
       "      <th>3</th>\n",
       "      <td>10000</td>\n",
       "      <td>10000</td>\n",
       "      <td>12</td>\n",
       "      <td>12</td>\n",
       "      <td>6</td>\n",
       "      <td>12</td>\n",
       "      <td>12</td>\n",
       "      <td>Fully Paid</td>\n",
       "      <td>CA</td>\n",
       "      <td>9886.65</td>\n",
       "      <td>1029.0</td>\n",
       "      <td>2</td>\n",
       "    </tr>\n",
       "    <tr>\n",
       "      <th>4</th>\n",
       "      <td>1200</td>\n",
       "      <td>1200</td>\n",
       "      <td>27</td>\n",
       "      <td>27</td>\n",
       "      <td>3</td>\n",
       "      <td>27</td>\n",
       "      <td>27</td>\n",
       "      <td>Fully Paid</td>\n",
       "      <td>CT</td>\n",
       "      <td>1161.06</td>\n",
       "      <td>4434.0</td>\n",
       "      <td>8</td>\n",
       "    </tr>\n",
       "  </tbody>\n",
       "</table>\n",
       "</div>"
      ],
      "text/plain": [
       "   loan_amnt  funded_amnt  int_rate  installment  grade  emp_length  \\\n",
       "0       1500         1500        16           16      5          16   \n",
       "1       1000         1000        22           22      4          22   \n",
       "2       4275         4275        11           11      6          11   \n",
       "3      10000        10000        12           12      6          12   \n",
       "4       1200         1200        27           27      3          27   \n",
       "\n",
       "   annual_inc loan_status addr_state  last_pymnt_amnt  avg_cur_bal  \\\n",
       "0          16  Fully Paid         MI          1520.50      14766.0   \n",
       "1          22  Fully Paid         NY           858.76       3744.0   \n",
       "2          11  Fully Paid         FL            27.05      19748.0   \n",
       "3          12  Fully Paid         CA          9886.65       1029.0   \n",
       "4          27  Fully Paid         CT          1161.06       4434.0   \n",
       "\n",
       "   num_actv_rev_tl  \n",
       "0                4  \n",
       "1                2  \n",
       "2                9  \n",
       "3                2  \n",
       "4                8  "
      ]
     },
     "execution_count": 11,
     "metadata": {},
     "output_type": "execute_result"
    }
   ],
   "source": [
    "renewable_energy.head()"
   ]
  },
  {
   "cell_type": "code",
   "execution_count": 12,
   "metadata": {},
   "outputs": [
    {
     "name": "stdout",
     "output_type": "stream",
     "text": [
      "{'loan_status': {'Fully Paid': 1}}\n"
     ]
    }
   ],
   "source": [
    "labels_loanStatus = renewable_energy['loan_status'].astype('category').cat.categories.tolist()\n",
    "replace_map_loan_status = {'loan_status' : {k: v for k,v in zip(labels_loanStatus,list(range(1,len(labels_loanStatus)+1)))}}\n",
    "print(replace_map_loan_status)"
   ]
  },
  {
   "cell_type": "code",
   "execution_count": 13,
   "metadata": {},
   "outputs": [],
   "source": [
    "renewable_energy.replace(replace_map_loan_status, inplace=True)"
   ]
  },
  {
   "cell_type": "code",
   "execution_count": 14,
   "metadata": {},
   "outputs": [
    {
     "name": "stdout",
     "output_type": "stream",
     "text": [
      "{'addr_state': {'CA': 1, 'CT': 2, 'FL': 3, 'MI': 4, 'NJ': 5, 'NY': 6}}\n"
     ]
    }
   ],
   "source": [
    "labels_addr_state = renewable_energy['addr_state'].astype('category').cat.categories.tolist()\n",
    "replace_map_comp_addr_state = {'addr_state' : {k: v for k,v in zip(labels_addr_state,list(range(1,len(labels_addr_state)+1)))}}\n",
    "print(replace_map_comp_addr_state)"
   ]
  },
  {
   "cell_type": "code",
   "execution_count": 15,
   "metadata": {},
   "outputs": [],
   "source": [
    "renewable_energy.replace(replace_map_comp_addr_state, inplace = True)"
   ]
  },
  {
   "cell_type": "code",
   "execution_count": 16,
   "metadata": {},
   "outputs": [
    {
     "data": {
      "text/html": [
       "<div>\n",
       "<style scoped>\n",
       "    .dataframe tbody tr th:only-of-type {\n",
       "        vertical-align: middle;\n",
       "    }\n",
       "\n",
       "    .dataframe tbody tr th {\n",
       "        vertical-align: top;\n",
       "    }\n",
       "\n",
       "    .dataframe thead th {\n",
       "        text-align: right;\n",
       "    }\n",
       "</style>\n",
       "<table border=\"1\" class=\"dataframe\">\n",
       "  <thead>\n",
       "    <tr style=\"text-align: right;\">\n",
       "      <th></th>\n",
       "      <th>loan_amnt</th>\n",
       "      <th>funded_amnt</th>\n",
       "      <th>int_rate</th>\n",
       "      <th>installment</th>\n",
       "      <th>grade</th>\n",
       "      <th>emp_length</th>\n",
       "      <th>annual_inc</th>\n",
       "      <th>loan_status</th>\n",
       "      <th>addr_state</th>\n",
       "      <th>last_pymnt_amnt</th>\n",
       "      <th>avg_cur_bal</th>\n",
       "      <th>num_actv_rev_tl</th>\n",
       "    </tr>\n",
       "  </thead>\n",
       "  <tbody>\n",
       "    <tr>\n",
       "      <th>0</th>\n",
       "      <td>1500</td>\n",
       "      <td>1500</td>\n",
       "      <td>16</td>\n",
       "      <td>16</td>\n",
       "      <td>5</td>\n",
       "      <td>16</td>\n",
       "      <td>16</td>\n",
       "      <td>1</td>\n",
       "      <td>4</td>\n",
       "      <td>1520.50</td>\n",
       "      <td>14766.0</td>\n",
       "      <td>4</td>\n",
       "    </tr>\n",
       "    <tr>\n",
       "      <th>1</th>\n",
       "      <td>1000</td>\n",
       "      <td>1000</td>\n",
       "      <td>22</td>\n",
       "      <td>22</td>\n",
       "      <td>4</td>\n",
       "      <td>22</td>\n",
       "      <td>22</td>\n",
       "      <td>1</td>\n",
       "      <td>6</td>\n",
       "      <td>858.76</td>\n",
       "      <td>3744.0</td>\n",
       "      <td>2</td>\n",
       "    </tr>\n",
       "    <tr>\n",
       "      <th>2</th>\n",
       "      <td>4275</td>\n",
       "      <td>4275</td>\n",
       "      <td>11</td>\n",
       "      <td>11</td>\n",
       "      <td>6</td>\n",
       "      <td>11</td>\n",
       "      <td>11</td>\n",
       "      <td>1</td>\n",
       "      <td>3</td>\n",
       "      <td>27.05</td>\n",
       "      <td>19748.0</td>\n",
       "      <td>9</td>\n",
       "    </tr>\n",
       "    <tr>\n",
       "      <th>3</th>\n",
       "      <td>10000</td>\n",
       "      <td>10000</td>\n",
       "      <td>12</td>\n",
       "      <td>12</td>\n",
       "      <td>6</td>\n",
       "      <td>12</td>\n",
       "      <td>12</td>\n",
       "      <td>1</td>\n",
       "      <td>1</td>\n",
       "      <td>9886.65</td>\n",
       "      <td>1029.0</td>\n",
       "      <td>2</td>\n",
       "    </tr>\n",
       "    <tr>\n",
       "      <th>4</th>\n",
       "      <td>1200</td>\n",
       "      <td>1200</td>\n",
       "      <td>27</td>\n",
       "      <td>27</td>\n",
       "      <td>3</td>\n",
       "      <td>27</td>\n",
       "      <td>27</td>\n",
       "      <td>1</td>\n",
       "      <td>2</td>\n",
       "      <td>1161.06</td>\n",
       "      <td>4434.0</td>\n",
       "      <td>8</td>\n",
       "    </tr>\n",
       "  </tbody>\n",
       "</table>\n",
       "</div>"
      ],
      "text/plain": [
       "   loan_amnt  funded_amnt  int_rate  installment  grade  emp_length  \\\n",
       "0       1500         1500        16           16      5          16   \n",
       "1       1000         1000        22           22      4          22   \n",
       "2       4275         4275        11           11      6          11   \n",
       "3      10000        10000        12           12      6          12   \n",
       "4       1200         1200        27           27      3          27   \n",
       "\n",
       "   annual_inc  loan_status  addr_state  last_pymnt_amnt  avg_cur_bal  \\\n",
       "0          16            1           4          1520.50      14766.0   \n",
       "1          22            1           6           858.76       3744.0   \n",
       "2          11            1           3            27.05      19748.0   \n",
       "3          12            1           1          9886.65       1029.0   \n",
       "4          27            1           2          1161.06       4434.0   \n",
       "\n",
       "   num_actv_rev_tl  \n",
       "0                4  \n",
       "1                2  \n",
       "2                9  \n",
       "3                2  \n",
       "4                8  "
      ]
     },
     "execution_count": 16,
     "metadata": {},
     "output_type": "execute_result"
    }
   ],
   "source": [
    "renewable_energy.head()"
   ]
  },
  {
   "cell_type": "code",
   "execution_count": 17,
   "metadata": {},
   "outputs": [],
   "source": [
    "\n",
    "y=renewable_energy['int_rate']\n",
    "X = renewable_energy.drop('int_rate', axis=1)"
   ]
  },
  {
   "cell_type": "code",
   "execution_count": 18,
   "metadata": {},
   "outputs": [],
   "source": [
    "X_train, X_test, y_train, y_test = train_test_split(X, y, test_size = 0.25,random_state=0)"
   ]
  },
  {
   "cell_type": "code",
   "execution_count": 19,
   "metadata": {},
   "outputs": [
    {
     "data": {
      "text/plain": [
       "(5, 11)"
      ]
     },
     "execution_count": 19,
     "metadata": {},
     "output_type": "execute_result"
    }
   ],
   "source": [
    "X_train.shape"
   ]
  },
  {
   "cell_type": "code",
   "execution_count": 20,
   "metadata": {},
   "outputs": [
    {
     "data": {
      "text/html": [
       "<div>\n",
       "<style scoped>\n",
       "    .dataframe tbody tr th:only-of-type {\n",
       "        vertical-align: middle;\n",
       "    }\n",
       "\n",
       "    .dataframe tbody tr th {\n",
       "        vertical-align: top;\n",
       "    }\n",
       "\n",
       "    .dataframe thead th {\n",
       "        text-align: right;\n",
       "    }\n",
       "</style>\n",
       "<table border=\"1\" class=\"dataframe\">\n",
       "  <thead>\n",
       "    <tr style=\"text-align: right;\">\n",
       "      <th></th>\n",
       "      <th>loan_amnt</th>\n",
       "      <th>funded_amnt</th>\n",
       "      <th>installment</th>\n",
       "      <th>grade</th>\n",
       "      <th>emp_length</th>\n",
       "      <th>annual_inc</th>\n",
       "      <th>loan_status</th>\n",
       "      <th>addr_state</th>\n",
       "      <th>last_pymnt_amnt</th>\n",
       "      <th>avg_cur_bal</th>\n",
       "      <th>num_actv_rev_tl</th>\n",
       "    </tr>\n",
       "  </thead>\n",
       "  <tbody>\n",
       "    <tr>\n",
       "      <th>6</th>\n",
       "      <td>10000</td>\n",
       "      <td>10000</td>\n",
       "      <td>16</td>\n",
       "      <td>5</td>\n",
       "      <td>16</td>\n",
       "      <td>16</td>\n",
       "      <td>1</td>\n",
       "      <td>1</td>\n",
       "      <td>10015.78</td>\n",
       "      <td>1755.0</td>\n",
       "      <td>9</td>\n",
       "    </tr>\n",
       "    <tr>\n",
       "      <th>2</th>\n",
       "      <td>4275</td>\n",
       "      <td>4275</td>\n",
       "      <td>11</td>\n",
       "      <td>6</td>\n",
       "      <td>11</td>\n",
       "      <td>11</td>\n",
       "      <td>1</td>\n",
       "      <td>3</td>\n",
       "      <td>27.05</td>\n",
       "      <td>19748.0</td>\n",
       "      <td>9</td>\n",
       "    </tr>\n",
       "  </tbody>\n",
       "</table>\n",
       "</div>"
      ],
      "text/plain": [
       "   loan_amnt  funded_amnt  installment  grade  emp_length  annual_inc  \\\n",
       "6      10000        10000           16      5          16          16   \n",
       "2       4275         4275           11      6          11          11   \n",
       "\n",
       "   loan_status  addr_state  last_pymnt_amnt  avg_cur_bal  num_actv_rev_tl  \n",
       "6            1           1         10015.78       1755.0                9  \n",
       "2            1           3            27.05      19748.0                9  "
      ]
     },
     "execution_count": 20,
     "metadata": {},
     "output_type": "execute_result"
    }
   ],
   "source": [
    "X_test.head()"
   ]
  },
  {
   "cell_type": "code",
   "execution_count": 21,
   "metadata": {},
   "outputs": [
    {
     "data": {
      "text/plain": [
       "1    22\n",
       "3    12\n",
       "0    16\n",
       "5     7\n",
       "4    27\n",
       "Name: int_rate, dtype: int64"
      ]
     },
     "execution_count": 21,
     "metadata": {},
     "output_type": "execute_result"
    }
   ],
   "source": [
    "y_train.head()"
   ]
  },
  {
   "cell_type": "code",
   "execution_count": 22,
   "metadata": {},
   "outputs": [
    {
     "data": {
      "text/plain": [
       "(2,)"
      ]
     },
     "execution_count": 22,
     "metadata": {},
     "output_type": "execute_result"
    }
   ],
   "source": [
    "y_test.shape"
   ]
  },
  {
   "cell_type": "code",
   "execution_count": 23,
   "metadata": {
    "scrolled": true
   },
   "outputs": [
    {
     "data": {
      "text/plain": [
       "RandomForestClassifier(bootstrap=True, class_weight=None, criterion='gini',\n",
       "                       max_depth=None, max_features='auto', max_leaf_nodes=None,\n",
       "                       min_impurity_decrease=0.0, min_impurity_split=1e-07,\n",
       "                       min_samples_leaf=1, min_samples_split=2,\n",
       "                       min_weight_fraction_leaf=0.0, n_estimators=10, n_jobs=2,\n",
       "                       oob_score=False, random_state=0, verbose=0,\n",
       "                       warm_start=False)"
      ]
     },
     "execution_count": 23,
     "metadata": {},
     "output_type": "execute_result"
    }
   ],
   "source": [
    "clf = RandomForestClassifier(n_jobs=2, random_state=0)\n",
    "\n",
    "clf.fit(X_train, y_train)\n",
    "RandomForestClassifier(bootstrap=True, class_weight=None, criterion='gini',\n",
    "            max_depth=None, max_features='auto', max_leaf_nodes=None,\n",
    "            min_impurity_split=1e-07, min_samples_leaf=1,\n",
    "            min_samples_split=2, min_weight_fraction_leaf=0.0,\n",
    "            n_estimators=10, n_jobs=2, oob_score=False, random_state=0,\n",
    "            verbose=0, warm_start=False)"
   ]
  },
  {
   "cell_type": "code",
   "execution_count": 24,
   "metadata": {},
   "outputs": [],
   "source": [
    "preds = clf.predict(X_test)"
   ]
  },
  {
   "cell_type": "code",
   "execution_count": 25,
   "metadata": {
    "scrolled": true
   },
   "outputs": [
    {
     "data": {
      "text/html": [
       "<div>\n",
       "<style scoped>\n",
       "    .dataframe tbody tr th:only-of-type {\n",
       "        vertical-align: middle;\n",
       "    }\n",
       "\n",
       "    .dataframe tbody tr th {\n",
       "        vertical-align: top;\n",
       "    }\n",
       "\n",
       "    .dataframe thead th {\n",
       "        text-align: right;\n",
       "    }\n",
       "</style>\n",
       "<table border=\"1\" class=\"dataframe\">\n",
       "  <thead>\n",
       "    <tr style=\"text-align: right;\">\n",
       "      <th>Predicted Result</th>\n",
       "      <th>12</th>\n",
       "    </tr>\n",
       "    <tr>\n",
       "      <th>Actual Result</th>\n",
       "      <th></th>\n",
       "    </tr>\n",
       "  </thead>\n",
       "  <tbody>\n",
       "    <tr>\n",
       "      <th>11</th>\n",
       "      <td>1</td>\n",
       "    </tr>\n",
       "    <tr>\n",
       "      <th>16</th>\n",
       "      <td>1</td>\n",
       "    </tr>\n",
       "  </tbody>\n",
       "</table>\n",
       "</div>"
      ],
      "text/plain": [
       "Predicted Result  12\n",
       "Actual Result       \n",
       "11                 1\n",
       "16                 1"
      ]
     },
     "execution_count": 25,
     "metadata": {},
     "output_type": "execute_result"
    }
   ],
   "source": [
    "pd.crosstab(y_test, preds, rownames=['Actual Result'], colnames=['Predicted Result'])"
   ]
  },
  {
   "cell_type": "code",
   "execution_count": 26,
   "metadata": {},
   "outputs": [
    {
     "name": "stdout",
     "output_type": "stream",
     "text": [
      "Accuracy: 0.0\n"
     ]
    }
   ],
   "source": [
    "#2 \n",
    "\n",
    "# Feature Scaling (Normalize x)\n",
    "sc = StandardScaler()\n",
    "X_train = sc.fit_transform(X_train)\n",
    "X_test = sc.transform(X_test)\n",
    "\n",
    "#RF\n",
    "clf=RandomForestClassifier(n_estimators=300)\n",
    "\n",
    "clf.fit(X_train,y_train)\n",
    "\n",
    "# Make predictions on test data\n",
    "y_pred=clf.predict(X_test)\n",
    "\n",
    "from sklearn import metrics\n",
    "# Model Accuracy, how often is the classifier correct?\n",
    "print(\"Accuracy:\",metrics.accuracy_score(y_test, y_pred))"
   ]
  },
  {
   "cell_type": "code",
   "execution_count": 27,
   "metadata": {},
   "outputs": [
    {
     "name": "stdout",
     "output_type": "stream",
     "text": [
      "Testing Accuracy: 0.00000\n",
      "Training Accuracy: 1.00000\n",
      "\n"
     ]
    }
   ],
   "source": [
    "model2 = RandomForestClassifier(n_estimators=300,max_depth=800)\n",
    "model2.fit(X_train,y_train)\n",
    "predictions2 = model2.predict(X_test)\n",
    "\n",
    "print(('Testing Accuracy: %.5f') % (accuracy_score(y_test, predictions2)))\n",
    "print(('Training Accuracy: %.5f') % (accuracy_score(y_train, model2.predict(X_train))))\n",
    "print()"
   ]
  },
  {
   "cell_type": "code",
   "execution_count": 28,
   "metadata": {},
   "outputs": [],
   "source": [
    "# reference: https://towardsdatascience.com/random-forest-in-python-24d0893d51c0\n",
    "def pred_score(model):\n",
    "    pred = model.predict(X_test)\n",
    "    # Calculate the absolute errors\n",
    "    errors = abs(pred - y_test)\n",
    "    # Calculate mean absolute percentage error\n",
    "    mape = 100 * (errors / y_test)\n",
    "    accuracy = 100 - np.mean(mape)\n",
    "    return round(accuracy, 2)"
   ]
  },
  {
   "cell_type": "code",
   "execution_count": 29,
   "metadata": {},
   "outputs": [
    {
     "name": "stdout",
     "output_type": "stream",
     "text": [
      "Accuracy of Logistic regression classifier on training set: 80.0%.\n"
     ]
    }
   ],
   "source": [
    "from sklearn.linear_model import LogisticRegression\n",
    "\n",
    "logreg = LogisticRegression(C=1.0, class_weight=None, dual=False, fit_intercept=True,\n",
    "          intercept_scaling=1, max_iter=110, multi_class='ovr', n_jobs=1,\n",
    "          penalty='l1', random_state=None, solver='liblinear', tol=0.0001,\n",
    "          verbose=0, warm_start=False)\n",
    "\n",
    "logreg.fit(X_train, y_train)\n",
    "print(f'Accuracy of Logistic regression classifier on training set: {round(logreg.score(X_train, y_train)*100,2)}%.')"
   ]
  },
  {
   "cell_type": "code",
   "execution_count": 30,
   "metadata": {},
   "outputs": [
    {
     "name": "stdout",
     "output_type": "stream",
     "text": [
      "Accuracy of K-NN classifier on training set: 40.0%.\n"
     ]
    }
   ],
   "source": [
    "from sklearn.neighbors import KNeighborsClassifier\n",
    "\n",
    "knn = KNeighborsClassifier(algorithm='auto', leaf_size=15, metric='minkowski',\n",
    " metric_params=None, n_jobs=1, n_neighbors=3, p=2,\n",
    " weights='uniform')\n",
    "\n",
    "knn.fit(X_train, y_train)\n",
    "print(f'Accuracy of K-NN classifier on training set: {round(knn.score(X_train, y_train)*100,2)}%.')"
   ]
  },
  {
   "cell_type": "code",
   "execution_count": 31,
   "metadata": {},
   "outputs": [
    {
     "name": "stdout",
     "output_type": "stream",
     "text": [
      "Accuracy of Decision Tree classifier on training set: 100.0%.\n"
     ]
    }
   ],
   "source": [
    "from sklearn.tree import DecisionTreeClassifier\n",
    "\n",
    "dt = DecisionTreeClassifier()\n",
    "\n",
    "dt.fit(X_train, y_train)\n",
    "print(f'Accuracy of Decision Tree classifier on training set: {round(dt.score(X_train, y_train)*100,2)}%.')"
   ]
  },
  {
   "cell_type": "code",
   "execution_count": 32,
   "metadata": {},
   "outputs": [
    {
     "name": "stdout",
     "output_type": "stream",
     "text": [
      "Accuracy of SVM classifier on training set: 100.0%.\n"
     ]
    }
   ],
   "source": [
    "from sklearn.svm import SVC\n",
    "\n",
    "svm = SVC(kernel='linear')\n",
    "\n",
    "svm.fit(X_train, y_train)\n",
    "print(f'Accuracy of SVM classifier on training set: {round(svm.score(X_train, y_train)*100,2)}%.')"
   ]
  },
  {
   "cell_type": "code",
   "execution_count": null,
   "metadata": {},
   "outputs": [],
   "source": []
  },
  {
   "cell_type": "code",
   "execution_count": null,
   "metadata": {},
   "outputs": [],
   "source": []
  }
 ],
 "metadata": {
  "kernelspec": {
   "display_name": "Python 3",
   "language": "python",
   "name": "python3"
  },
  "language_info": {
   "codemirror_mode": {
    "name": "ipython",
    "version": 3
   },
   "file_extension": ".py",
   "mimetype": "text/x-python",
   "name": "python",
   "nbconvert_exporter": "python",
   "pygments_lexer": "ipython3",
   "version": "3.7.3"
  }
 },
 "nbformat": 4,
 "nbformat_minor": 2
}
