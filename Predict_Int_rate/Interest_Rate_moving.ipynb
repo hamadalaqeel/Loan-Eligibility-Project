{
 "cells": [
  {
   "cell_type": "markdown",
   "metadata": {},
   "source": [
    "# Business Understanding\n",
    "### The purpose of this notebook is predict the interset rate for the credit card dataset"
   ]
  },
  {
   "cell_type": "markdown",
   "metadata": {},
   "source": [
    "## Import necessary Libraries "
   ]
  },
  {
   "cell_type": "code",
   "execution_count": 1,
   "metadata": {},
   "outputs": [],
   "source": [
    "\n",
    "import pandas as pd\n",
    "import numpy as np\n",
    "\n",
    "import warnings # ignore warnings\n",
    "warnings.simplefilter(\"ignore\")      #Assign predictors & target\n",
    "from sklearn import preprocessing     \n",
    "\n",
    "from sklearn.model_selection import train_test_split # Split data\n",
    "\n",
    "#Models\n",
    "from sklearn import model_selection\n",
    "from sklearn.metrics import accuracy_score\n",
    "\n",
    "\n",
    "from sklearn.ensemble import RandomForestClassifier\n",
    "from sklearn.preprocessing import StandardScaler   # Feature Scaling for RF\n",
    "\n",
    "from sklearn.preprocessing import MinMaxScaler\n",
    "\n",
    "\n",
    "from sklearn.svm import SVC\n",
    "from sklearn.model_selection import GridSearchCV\n",
    "\n",
    "from sklearn.model_selection import train_test_split\n",
    "\n",
    "import sklearn \n",
    "from sklearn.metrics import classification_report, confusion_matrix\n",
    "\n",
    "from sklearn.model_selection import cross_val_score\n"
   ]
  },
  {
   "cell_type": "markdown",
   "metadata": {},
   "source": [
    "# Preproccessing"
   ]
  },
  {
   "cell_type": "code",
   "execution_count": 3,
   "metadata": {},
   "outputs": [
    {
     "data": {
      "text/html": [
       "<div>\n",
       "<style scoped>\n",
       "    .dataframe tbody tr th:only-of-type {\n",
       "        vertical-align: middle;\n",
       "    }\n",
       "\n",
       "    .dataframe tbody tr th {\n",
       "        vertical-align: top;\n",
       "    }\n",
       "\n",
       "    .dataframe thead th {\n",
       "        text-align: right;\n",
       "    }\n",
       "</style>\n",
       "<table border=\"1\" class=\"dataframe\">\n",
       "  <thead>\n",
       "    <tr style=\"text-align: right;\">\n",
       "      <th></th>\n",
       "      <th>Column</th>\n",
       "      <th>loan_amnt</th>\n",
       "      <th>funded_amnt</th>\n",
       "      <th>int_rate</th>\n",
       "      <th>installment</th>\n",
       "      <th>grade</th>\n",
       "      <th>emp_length</th>\n",
       "      <th>annual_inc</th>\n",
       "      <th>loan_status</th>\n",
       "      <th>purpose</th>\n",
       "      <th>addr_state</th>\n",
       "      <th>last_pymnt_amnt</th>\n",
       "      <th>avg_cur_bal</th>\n",
       "      <th>num_actv_rev_tl</th>\n",
       "    </tr>\n",
       "  </thead>\n",
       "  <tbody>\n",
       "    <tr>\n",
       "      <th>0</th>\n",
       "      <td>53</td>\n",
       "      <td>6000</td>\n",
       "      <td>6000</td>\n",
       "      <td>13.08</td>\n",
       "      <td>202.40</td>\n",
       "      <td>6</td>\n",
       "      <td>NaN</td>\n",
       "      <td>35707.0</td>\n",
       "      <td>Fully Paid</td>\n",
       "      <td>moving</td>\n",
       "      <td>NY</td>\n",
       "      <td>6114.40</td>\n",
       "      <td>1119.0</td>\n",
       "      <td>5</td>\n",
       "    </tr>\n",
       "    <tr>\n",
       "      <th>1</th>\n",
       "      <td>299</td>\n",
       "      <td>3000</td>\n",
       "      <td>3000</td>\n",
       "      <td>12.40</td>\n",
       "      <td>100.22</td>\n",
       "      <td>6</td>\n",
       "      <td>6.0</td>\n",
       "      <td>90000.0</td>\n",
       "      <td>Fully Paid</td>\n",
       "      <td>moving</td>\n",
       "      <td>OK</td>\n",
       "      <td>3062.63</td>\n",
       "      <td>17477.0</td>\n",
       "      <td>5</td>\n",
       "    </tr>\n",
       "    <tr>\n",
       "      <th>2</th>\n",
       "      <td>480</td>\n",
       "      <td>3000</td>\n",
       "      <td>3000</td>\n",
       "      <td>7.56</td>\n",
       "      <td>93.41</td>\n",
       "      <td>7</td>\n",
       "      <td>2.0</td>\n",
       "      <td>90000.0</td>\n",
       "      <td>Fully Paid</td>\n",
       "      <td>moving</td>\n",
       "      <td>FL</td>\n",
       "      <td>2018.90</td>\n",
       "      <td>7358.0</td>\n",
       "      <td>3</td>\n",
       "    </tr>\n",
       "    <tr>\n",
       "      <th>3</th>\n",
       "      <td>616</td>\n",
       "      <td>8000</td>\n",
       "      <td>8000</td>\n",
       "      <td>14.74</td>\n",
       "      <td>276.31</td>\n",
       "      <td>5</td>\n",
       "      <td>1.0</td>\n",
       "      <td>64000.0</td>\n",
       "      <td>Fully Paid</td>\n",
       "      <td>moving</td>\n",
       "      <td>GA</td>\n",
       "      <td>8010.81</td>\n",
       "      <td>143.0</td>\n",
       "      <td>1</td>\n",
       "    </tr>\n",
       "    <tr>\n",
       "      <th>4</th>\n",
       "      <td>701</td>\n",
       "      <td>20000</td>\n",
       "      <td>20000</td>\n",
       "      <td>28.90</td>\n",
       "      <td>633.63</td>\n",
       "      <td>3</td>\n",
       "      <td>1.0</td>\n",
       "      <td>45000.0</td>\n",
       "      <td>Fully Paid</td>\n",
       "      <td>moving</td>\n",
       "      <td>GA</td>\n",
       "      <td>20052.98</td>\n",
       "      <td>3342.0</td>\n",
       "      <td>2</td>\n",
       "    </tr>\n",
       "    <tr>\n",
       "      <th>5</th>\n",
       "      <td>927</td>\n",
       "      <td>3600</td>\n",
       "      <td>3600</td>\n",
       "      <td>20.00</td>\n",
       "      <td>133.79</td>\n",
       "      <td>4</td>\n",
       "      <td>2.0</td>\n",
       "      <td>100000.0</td>\n",
       "      <td>Fully Paid</td>\n",
       "      <td>moving</td>\n",
       "      <td>NC</td>\n",
       "      <td>3673.71</td>\n",
       "      <td>14467.0</td>\n",
       "      <td>1</td>\n",
       "    </tr>\n",
       "    <tr>\n",
       "      <th>6</th>\n",
       "      <td>1047</td>\n",
       "      <td>5000</td>\n",
       "      <td>5000</td>\n",
       "      <td>8.19</td>\n",
       "      <td>157.13</td>\n",
       "      <td>7</td>\n",
       "      <td>10.0</td>\n",
       "      <td>96595.0</td>\n",
       "      <td>Fully Paid</td>\n",
       "      <td>moving</td>\n",
       "      <td>CA</td>\n",
       "      <td>5005.89</td>\n",
       "      <td>796.0</td>\n",
       "      <td>5</td>\n",
       "    </tr>\n",
       "    <tr>\n",
       "      <th>7</th>\n",
       "      <td>1052</td>\n",
       "      <td>5500</td>\n",
       "      <td>5500</td>\n",
       "      <td>11.71</td>\n",
       "      <td>181.92</td>\n",
       "      <td>6</td>\n",
       "      <td>8.0</td>\n",
       "      <td>110200.0</td>\n",
       "      <td>Fully Paid</td>\n",
       "      <td>moving</td>\n",
       "      <td>NY</td>\n",
       "      <td>5528.62</td>\n",
       "      <td>38807.0</td>\n",
       "      <td>4</td>\n",
       "    </tr>\n",
       "    <tr>\n",
       "      <th>8</th>\n",
       "      <td>1069</td>\n",
       "      <td>8000</td>\n",
       "      <td>8000</td>\n",
       "      <td>17.97</td>\n",
       "      <td>289.10</td>\n",
       "      <td>4</td>\n",
       "      <td>NaN</td>\n",
       "      <td>62000.0</td>\n",
       "      <td>Fully Paid</td>\n",
       "      <td>moving</td>\n",
       "      <td>CA</td>\n",
       "      <td>8071.88</td>\n",
       "      <td>8134.0</td>\n",
       "      <td>15</td>\n",
       "    </tr>\n",
       "    <tr>\n",
       "      <th>9</th>\n",
       "      <td>1115</td>\n",
       "      <td>28000</td>\n",
       "      <td>28000</td>\n",
       "      <td>8.81</td>\n",
       "      <td>887.92</td>\n",
       "      <td>7</td>\n",
       "      <td>10.0</td>\n",
       "      <td>194000.0</td>\n",
       "      <td>Fully Paid</td>\n",
       "      <td>moving</td>\n",
       "      <td>VA</td>\n",
       "      <td>27642.03</td>\n",
       "      <td>69171.0</td>\n",
       "      <td>4</td>\n",
       "    </tr>\n",
       "  </tbody>\n",
       "</table>\n",
       "</div>"
      ],
      "text/plain": [
       "   Column  loan_amnt  funded_amnt  int_rate  installment  grade  emp_length  \\\n",
       "0      53       6000         6000     13.08       202.40      6         NaN   \n",
       "1     299       3000         3000     12.40       100.22      6         6.0   \n",
       "2     480       3000         3000      7.56        93.41      7         2.0   \n",
       "3     616       8000         8000     14.74       276.31      5         1.0   \n",
       "4     701      20000        20000     28.90       633.63      3         1.0   \n",
       "5     927       3600         3600     20.00       133.79      4         2.0   \n",
       "6    1047       5000         5000      8.19       157.13      7        10.0   \n",
       "7    1052       5500         5500     11.71       181.92      6         8.0   \n",
       "8    1069       8000         8000     17.97       289.10      4         NaN   \n",
       "9    1115      28000        28000      8.81       887.92      7        10.0   \n",
       "\n",
       "   annual_inc loan_status purpose addr_state  last_pymnt_amnt  avg_cur_bal  \\\n",
       "0     35707.0  Fully Paid  moving         NY          6114.40       1119.0   \n",
       "1     90000.0  Fully Paid  moving         OK          3062.63      17477.0   \n",
       "2     90000.0  Fully Paid  moving         FL          2018.90       7358.0   \n",
       "3     64000.0  Fully Paid  moving         GA          8010.81        143.0   \n",
       "4     45000.0  Fully Paid  moving         GA         20052.98       3342.0   \n",
       "5    100000.0  Fully Paid  moving         NC          3673.71      14467.0   \n",
       "6     96595.0  Fully Paid  moving         CA          5005.89        796.0   \n",
       "7    110200.0  Fully Paid  moving         NY          5528.62      38807.0   \n",
       "8     62000.0  Fully Paid  moving         CA          8071.88       8134.0   \n",
       "9    194000.0  Fully Paid  moving         VA         27642.03      69171.0   \n",
       "\n",
       "   num_actv_rev_tl  \n",
       "0                5  \n",
       "1                5  \n",
       "2                3  \n",
       "3                1  \n",
       "4                2  \n",
       "5                1  \n",
       "6                5  \n",
       "7                4  \n",
       "8               15  \n",
       "9                4  "
      ]
     },
     "execution_count": 3,
     "metadata": {},
     "output_type": "execute_result"
    }
   ],
   "source": [
    "moving = pd.read_csv('datasets/moving.csv')\n",
    "moving.head(n=10)"
   ]
  },
  {
   "cell_type": "code",
   "execution_count": 4,
   "metadata": {},
   "outputs": [
    {
     "data": {
      "text/plain": [
       "(48, 14)"
      ]
     },
     "execution_count": 4,
     "metadata": {},
     "output_type": "execute_result"
    }
   ],
   "source": [
    "moving.shape"
   ]
  },
  {
   "cell_type": "markdown",
   "metadata": {},
   "source": [
    "# Since it has the same columns as Credit_card dataset, we will follow the same process"
   ]
  },
  {
   "cell_type": "code",
   "execution_count": 5,
   "metadata": {},
   "outputs": [
    {
     "name": "stdout",
     "output_type": "stream",
     "text": [
      "<class 'pandas.core.frame.DataFrame'>\n",
      "RangeIndex: 48 entries, 0 to 47\n",
      "Data columns (total 14 columns):\n",
      "Column             48 non-null int64\n",
      "loan_amnt          48 non-null int64\n",
      "funded_amnt        48 non-null int64\n",
      "int_rate           48 non-null float64\n",
      "installment        48 non-null float64\n",
      "grade              48 non-null int64\n",
      "emp_length         41 non-null float64\n",
      "annual_inc         48 non-null float64\n",
      "loan_status        48 non-null object\n",
      "purpose            48 non-null object\n",
      "addr_state         48 non-null object\n",
      "last_pymnt_amnt    48 non-null float64\n",
      "avg_cur_bal        47 non-null float64\n",
      "num_actv_rev_tl    48 non-null int64\n",
      "dtypes: float64(6), int64(5), object(3)\n",
      "memory usage: 5.3+ KB\n"
     ]
    }
   ],
   "source": [
    "moving.info()"
   ]
  },
  {
   "cell_type": "code",
   "execution_count": 6,
   "metadata": {},
   "outputs": [],
   "source": [
    "moving.dropna(inplace = True)"
   ]
  },
  {
   "cell_type": "code",
   "execution_count": 7,
   "metadata": {},
   "outputs": [],
   "source": [
    "moving['int_rate'] = moving.int_rate.astype(int)\n",
    "moving['installment'] = moving.int_rate.astype(int)\n",
    "moving['emp_length'] = moving.int_rate.astype(int)\n",
    "moving['annual_inc'] = moving.int_rate.astype(int)\n",
    "moving['int_rate'] = moving.int_rate.astype(int)\n",
    "moving['int_rate'] = moving.int_rate.astype(int)"
   ]
  },
  {
   "cell_type": "code",
   "execution_count": 10,
   "metadata": {},
   "outputs": [
    {
     "name": "stdout",
     "output_type": "stream",
     "text": [
      "<class 'pandas.core.frame.DataFrame'>\n",
      "Int64Index: 41 entries, 1 to 47\n",
      "Data columns (total 14 columns):\n",
      "Column             41 non-null int64\n",
      "loan_amnt          41 non-null int64\n",
      "funded_amnt        41 non-null int64\n",
      "int_rate           41 non-null int64\n",
      "installment        41 non-null int64\n",
      "grade              41 non-null int64\n",
      "emp_length         41 non-null int64\n",
      "annual_inc         41 non-null int64\n",
      "loan_status        41 non-null object\n",
      "purpose            41 non-null object\n",
      "addr_state         41 non-null object\n",
      "last_pymnt_amnt    41 non-null float64\n",
      "avg_cur_bal        41 non-null float64\n",
      "num_actv_rev_tl    41 non-null int64\n",
      "dtypes: float64(2), int64(9), object(3)\n",
      "memory usage: 4.8+ KB\n"
     ]
    }
   ],
   "source": [
    "moving.info()"
   ]
  },
  {
   "cell_type": "code",
   "execution_count": 11,
   "metadata": {},
   "outputs": [],
   "source": [
    "moving.drop('purpose', axis=1, inplace=True)"
   ]
  },
  {
   "cell_type": "code",
   "execution_count": 12,
   "metadata": {},
   "outputs": [
    {
     "data": {
      "text/html": [
       "<div>\n",
       "<style scoped>\n",
       "    .dataframe tbody tr th:only-of-type {\n",
       "        vertical-align: middle;\n",
       "    }\n",
       "\n",
       "    .dataframe tbody tr th {\n",
       "        vertical-align: top;\n",
       "    }\n",
       "\n",
       "    .dataframe thead th {\n",
       "        text-align: right;\n",
       "    }\n",
       "</style>\n",
       "<table border=\"1\" class=\"dataframe\">\n",
       "  <thead>\n",
       "    <tr style=\"text-align: right;\">\n",
       "      <th></th>\n",
       "      <th>Column</th>\n",
       "      <th>loan_amnt</th>\n",
       "      <th>funded_amnt</th>\n",
       "      <th>int_rate</th>\n",
       "      <th>installment</th>\n",
       "      <th>grade</th>\n",
       "      <th>emp_length</th>\n",
       "      <th>annual_inc</th>\n",
       "      <th>loan_status</th>\n",
       "      <th>addr_state</th>\n",
       "      <th>last_pymnt_amnt</th>\n",
       "      <th>avg_cur_bal</th>\n",
       "      <th>num_actv_rev_tl</th>\n",
       "    </tr>\n",
       "  </thead>\n",
       "  <tbody>\n",
       "    <tr>\n",
       "      <th>1</th>\n",
       "      <td>299</td>\n",
       "      <td>3000</td>\n",
       "      <td>3000</td>\n",
       "      <td>12</td>\n",
       "      <td>12</td>\n",
       "      <td>6</td>\n",
       "      <td>12</td>\n",
       "      <td>12</td>\n",
       "      <td>Fully Paid</td>\n",
       "      <td>OK</td>\n",
       "      <td>3062.63</td>\n",
       "      <td>17477.0</td>\n",
       "      <td>5</td>\n",
       "    </tr>\n",
       "    <tr>\n",
       "      <th>2</th>\n",
       "      <td>480</td>\n",
       "      <td>3000</td>\n",
       "      <td>3000</td>\n",
       "      <td>7</td>\n",
       "      <td>7</td>\n",
       "      <td>7</td>\n",
       "      <td>7</td>\n",
       "      <td>7</td>\n",
       "      <td>Fully Paid</td>\n",
       "      <td>FL</td>\n",
       "      <td>2018.90</td>\n",
       "      <td>7358.0</td>\n",
       "      <td>3</td>\n",
       "    </tr>\n",
       "    <tr>\n",
       "      <th>3</th>\n",
       "      <td>616</td>\n",
       "      <td>8000</td>\n",
       "      <td>8000</td>\n",
       "      <td>14</td>\n",
       "      <td>14</td>\n",
       "      <td>5</td>\n",
       "      <td>14</td>\n",
       "      <td>14</td>\n",
       "      <td>Fully Paid</td>\n",
       "      <td>GA</td>\n",
       "      <td>8010.81</td>\n",
       "      <td>143.0</td>\n",
       "      <td>1</td>\n",
       "    </tr>\n",
       "    <tr>\n",
       "      <th>4</th>\n",
       "      <td>701</td>\n",
       "      <td>20000</td>\n",
       "      <td>20000</td>\n",
       "      <td>28</td>\n",
       "      <td>28</td>\n",
       "      <td>3</td>\n",
       "      <td>28</td>\n",
       "      <td>28</td>\n",
       "      <td>Fully Paid</td>\n",
       "      <td>GA</td>\n",
       "      <td>20052.98</td>\n",
       "      <td>3342.0</td>\n",
       "      <td>2</td>\n",
       "    </tr>\n",
       "    <tr>\n",
       "      <th>5</th>\n",
       "      <td>927</td>\n",
       "      <td>3600</td>\n",
       "      <td>3600</td>\n",
       "      <td>20</td>\n",
       "      <td>20</td>\n",
       "      <td>4</td>\n",
       "      <td>20</td>\n",
       "      <td>20</td>\n",
       "      <td>Fully Paid</td>\n",
       "      <td>NC</td>\n",
       "      <td>3673.71</td>\n",
       "      <td>14467.0</td>\n",
       "      <td>1</td>\n",
       "    </tr>\n",
       "  </tbody>\n",
       "</table>\n",
       "</div>"
      ],
      "text/plain": [
       "   Column  loan_amnt  funded_amnt  int_rate  installment  grade  emp_length  \\\n",
       "1     299       3000         3000        12           12      6          12   \n",
       "2     480       3000         3000         7            7      7           7   \n",
       "3     616       8000         8000        14           14      5          14   \n",
       "4     701      20000        20000        28           28      3          28   \n",
       "5     927       3600         3600        20           20      4          20   \n",
       "\n",
       "   annual_inc loan_status addr_state  last_pymnt_amnt  avg_cur_bal  \\\n",
       "1          12  Fully Paid         OK          3062.63      17477.0   \n",
       "2           7  Fully Paid         FL          2018.90       7358.0   \n",
       "3          14  Fully Paid         GA          8010.81        143.0   \n",
       "4          28  Fully Paid         GA         20052.98       3342.0   \n",
       "5          20  Fully Paid         NC          3673.71      14467.0   \n",
       "\n",
       "   num_actv_rev_tl  \n",
       "1                5  \n",
       "2                3  \n",
       "3                1  \n",
       "4                2  \n",
       "5                1  "
      ]
     },
     "execution_count": 12,
     "metadata": {},
     "output_type": "execute_result"
    }
   ],
   "source": [
    "moving.head()"
   ]
  },
  {
   "cell_type": "code",
   "execution_count": 13,
   "metadata": {},
   "outputs": [],
   "source": [
    "moving.drop('Column', axis=1, inplace=True)"
   ]
  },
  {
   "cell_type": "code",
   "execution_count": 14,
   "metadata": {},
   "outputs": [
    {
     "data": {
      "text/html": [
       "<div>\n",
       "<style scoped>\n",
       "    .dataframe tbody tr th:only-of-type {\n",
       "        vertical-align: middle;\n",
       "    }\n",
       "\n",
       "    .dataframe tbody tr th {\n",
       "        vertical-align: top;\n",
       "    }\n",
       "\n",
       "    .dataframe thead th {\n",
       "        text-align: right;\n",
       "    }\n",
       "</style>\n",
       "<table border=\"1\" class=\"dataframe\">\n",
       "  <thead>\n",
       "    <tr style=\"text-align: right;\">\n",
       "      <th></th>\n",
       "      <th>loan_amnt</th>\n",
       "      <th>funded_amnt</th>\n",
       "      <th>int_rate</th>\n",
       "      <th>installment</th>\n",
       "      <th>grade</th>\n",
       "      <th>emp_length</th>\n",
       "      <th>annual_inc</th>\n",
       "      <th>loan_status</th>\n",
       "      <th>addr_state</th>\n",
       "      <th>last_pymnt_amnt</th>\n",
       "      <th>avg_cur_bal</th>\n",
       "      <th>num_actv_rev_tl</th>\n",
       "    </tr>\n",
       "  </thead>\n",
       "  <tbody>\n",
       "    <tr>\n",
       "      <th>1</th>\n",
       "      <td>3000</td>\n",
       "      <td>3000</td>\n",
       "      <td>12</td>\n",
       "      <td>12</td>\n",
       "      <td>6</td>\n",
       "      <td>12</td>\n",
       "      <td>12</td>\n",
       "      <td>Fully Paid</td>\n",
       "      <td>OK</td>\n",
       "      <td>3062.63</td>\n",
       "      <td>17477.0</td>\n",
       "      <td>5</td>\n",
       "    </tr>\n",
       "    <tr>\n",
       "      <th>2</th>\n",
       "      <td>3000</td>\n",
       "      <td>3000</td>\n",
       "      <td>7</td>\n",
       "      <td>7</td>\n",
       "      <td>7</td>\n",
       "      <td>7</td>\n",
       "      <td>7</td>\n",
       "      <td>Fully Paid</td>\n",
       "      <td>FL</td>\n",
       "      <td>2018.90</td>\n",
       "      <td>7358.0</td>\n",
       "      <td>3</td>\n",
       "    </tr>\n",
       "    <tr>\n",
       "      <th>3</th>\n",
       "      <td>8000</td>\n",
       "      <td>8000</td>\n",
       "      <td>14</td>\n",
       "      <td>14</td>\n",
       "      <td>5</td>\n",
       "      <td>14</td>\n",
       "      <td>14</td>\n",
       "      <td>Fully Paid</td>\n",
       "      <td>GA</td>\n",
       "      <td>8010.81</td>\n",
       "      <td>143.0</td>\n",
       "      <td>1</td>\n",
       "    </tr>\n",
       "    <tr>\n",
       "      <th>4</th>\n",
       "      <td>20000</td>\n",
       "      <td>20000</td>\n",
       "      <td>28</td>\n",
       "      <td>28</td>\n",
       "      <td>3</td>\n",
       "      <td>28</td>\n",
       "      <td>28</td>\n",
       "      <td>Fully Paid</td>\n",
       "      <td>GA</td>\n",
       "      <td>20052.98</td>\n",
       "      <td>3342.0</td>\n",
       "      <td>2</td>\n",
       "    </tr>\n",
       "    <tr>\n",
       "      <th>5</th>\n",
       "      <td>3600</td>\n",
       "      <td>3600</td>\n",
       "      <td>20</td>\n",
       "      <td>20</td>\n",
       "      <td>4</td>\n",
       "      <td>20</td>\n",
       "      <td>20</td>\n",
       "      <td>Fully Paid</td>\n",
       "      <td>NC</td>\n",
       "      <td>3673.71</td>\n",
       "      <td>14467.0</td>\n",
       "      <td>1</td>\n",
       "    </tr>\n",
       "  </tbody>\n",
       "</table>\n",
       "</div>"
      ],
      "text/plain": [
       "   loan_amnt  funded_amnt  int_rate  installment  grade  emp_length  \\\n",
       "1       3000         3000        12           12      6          12   \n",
       "2       3000         3000         7            7      7           7   \n",
       "3       8000         8000        14           14      5          14   \n",
       "4      20000        20000        28           28      3          28   \n",
       "5       3600         3600        20           20      4          20   \n",
       "\n",
       "   annual_inc loan_status addr_state  last_pymnt_amnt  avg_cur_bal  \\\n",
       "1          12  Fully Paid         OK          3062.63      17477.0   \n",
       "2           7  Fully Paid         FL          2018.90       7358.0   \n",
       "3          14  Fully Paid         GA          8010.81        143.0   \n",
       "4          28  Fully Paid         GA         20052.98       3342.0   \n",
       "5          20  Fully Paid         NC          3673.71      14467.0   \n",
       "\n",
       "   num_actv_rev_tl  \n",
       "1                5  \n",
       "2                3  \n",
       "3                1  \n",
       "4                2  \n",
       "5                1  "
      ]
     },
     "execution_count": 14,
     "metadata": {},
     "output_type": "execute_result"
    }
   ],
   "source": [
    "moving.head()"
   ]
  },
  {
   "cell_type": "code",
   "execution_count": 15,
   "metadata": {},
   "outputs": [
    {
     "name": "stdout",
     "output_type": "stream",
     "text": [
      "{'loan_status': {'Charged Off': 1, 'Fully Paid': 2}}\n"
     ]
    }
   ],
   "source": [
    "labels_loanStatus = moving['loan_status'].astype('category').cat.categories.tolist()\n",
    "replace_map_loan_status = {'loan_status' : {k: v for k,v in zip(labels_loanStatus,list(range(1,len(labels_loanStatus)+1)))}}\n",
    "print(replace_map_loan_status)"
   ]
  },
  {
   "cell_type": "code",
   "execution_count": 16,
   "metadata": {},
   "outputs": [],
   "source": [
    "moving.replace(replace_map_loan_status, inplace=True)"
   ]
  },
  {
   "cell_type": "code",
   "execution_count": 17,
   "metadata": {},
   "outputs": [
    {
     "name": "stdout",
     "output_type": "stream",
     "text": [
      "{'addr_state': {'AK': 1, 'CA': 2, 'CT': 3, 'FL': 4, 'GA': 5, 'IL': 6, 'MI': 7, 'NC': 8, 'NJ': 9, 'NV': 10, 'NY': 11, 'OH': 12, 'OK': 13, 'PA': 14, 'TN': 15, 'TX': 16, 'VA': 17, 'WA': 18}}\n"
     ]
    }
   ],
   "source": [
    "labels_addr_state = moving['addr_state'].astype('category').cat.categories.tolist()\n",
    "replace_map_comp_addr_state = {'addr_state' : {k: v for k,v in zip(labels_addr_state,list(range(1,len(labels_addr_state)+1)))}}\n",
    "print(replace_map_comp_addr_state)"
   ]
  },
  {
   "cell_type": "code",
   "execution_count": 18,
   "metadata": {},
   "outputs": [],
   "source": [
    "moving.replace(replace_map_comp_addr_state, inplace = True)"
   ]
  },
  {
   "cell_type": "code",
   "execution_count": 19,
   "metadata": {},
   "outputs": [
    {
     "data": {
      "text/html": [
       "<div>\n",
       "<style scoped>\n",
       "    .dataframe tbody tr th:only-of-type {\n",
       "        vertical-align: middle;\n",
       "    }\n",
       "\n",
       "    .dataframe tbody tr th {\n",
       "        vertical-align: top;\n",
       "    }\n",
       "\n",
       "    .dataframe thead th {\n",
       "        text-align: right;\n",
       "    }\n",
       "</style>\n",
       "<table border=\"1\" class=\"dataframe\">\n",
       "  <thead>\n",
       "    <tr style=\"text-align: right;\">\n",
       "      <th></th>\n",
       "      <th>loan_amnt</th>\n",
       "      <th>funded_amnt</th>\n",
       "      <th>int_rate</th>\n",
       "      <th>installment</th>\n",
       "      <th>grade</th>\n",
       "      <th>emp_length</th>\n",
       "      <th>annual_inc</th>\n",
       "      <th>loan_status</th>\n",
       "      <th>addr_state</th>\n",
       "      <th>last_pymnt_amnt</th>\n",
       "      <th>avg_cur_bal</th>\n",
       "      <th>num_actv_rev_tl</th>\n",
       "    </tr>\n",
       "  </thead>\n",
       "  <tbody>\n",
       "    <tr>\n",
       "      <th>1</th>\n",
       "      <td>3000</td>\n",
       "      <td>3000</td>\n",
       "      <td>12</td>\n",
       "      <td>12</td>\n",
       "      <td>6</td>\n",
       "      <td>12</td>\n",
       "      <td>12</td>\n",
       "      <td>2</td>\n",
       "      <td>13</td>\n",
       "      <td>3062.63</td>\n",
       "      <td>17477.0</td>\n",
       "      <td>5</td>\n",
       "    </tr>\n",
       "    <tr>\n",
       "      <th>2</th>\n",
       "      <td>3000</td>\n",
       "      <td>3000</td>\n",
       "      <td>7</td>\n",
       "      <td>7</td>\n",
       "      <td>7</td>\n",
       "      <td>7</td>\n",
       "      <td>7</td>\n",
       "      <td>2</td>\n",
       "      <td>4</td>\n",
       "      <td>2018.90</td>\n",
       "      <td>7358.0</td>\n",
       "      <td>3</td>\n",
       "    </tr>\n",
       "    <tr>\n",
       "      <th>3</th>\n",
       "      <td>8000</td>\n",
       "      <td>8000</td>\n",
       "      <td>14</td>\n",
       "      <td>14</td>\n",
       "      <td>5</td>\n",
       "      <td>14</td>\n",
       "      <td>14</td>\n",
       "      <td>2</td>\n",
       "      <td>5</td>\n",
       "      <td>8010.81</td>\n",
       "      <td>143.0</td>\n",
       "      <td>1</td>\n",
       "    </tr>\n",
       "    <tr>\n",
       "      <th>4</th>\n",
       "      <td>20000</td>\n",
       "      <td>20000</td>\n",
       "      <td>28</td>\n",
       "      <td>28</td>\n",
       "      <td>3</td>\n",
       "      <td>28</td>\n",
       "      <td>28</td>\n",
       "      <td>2</td>\n",
       "      <td>5</td>\n",
       "      <td>20052.98</td>\n",
       "      <td>3342.0</td>\n",
       "      <td>2</td>\n",
       "    </tr>\n",
       "    <tr>\n",
       "      <th>5</th>\n",
       "      <td>3600</td>\n",
       "      <td>3600</td>\n",
       "      <td>20</td>\n",
       "      <td>20</td>\n",
       "      <td>4</td>\n",
       "      <td>20</td>\n",
       "      <td>20</td>\n",
       "      <td>2</td>\n",
       "      <td>8</td>\n",
       "      <td>3673.71</td>\n",
       "      <td>14467.0</td>\n",
       "      <td>1</td>\n",
       "    </tr>\n",
       "  </tbody>\n",
       "</table>\n",
       "</div>"
      ],
      "text/plain": [
       "   loan_amnt  funded_amnt  int_rate  installment  grade  emp_length  \\\n",
       "1       3000         3000        12           12      6          12   \n",
       "2       3000         3000         7            7      7           7   \n",
       "3       8000         8000        14           14      5          14   \n",
       "4      20000        20000        28           28      3          28   \n",
       "5       3600         3600        20           20      4          20   \n",
       "\n",
       "   annual_inc  loan_status  addr_state  last_pymnt_amnt  avg_cur_bal  \\\n",
       "1          12            2          13          3062.63      17477.0   \n",
       "2           7            2           4          2018.90       7358.0   \n",
       "3          14            2           5          8010.81        143.0   \n",
       "4          28            2           5         20052.98       3342.0   \n",
       "5          20            2           8          3673.71      14467.0   \n",
       "\n",
       "   num_actv_rev_tl  \n",
       "1                5  \n",
       "2                3  \n",
       "3                1  \n",
       "4                2  \n",
       "5                1  "
      ]
     },
     "execution_count": 19,
     "metadata": {},
     "output_type": "execute_result"
    }
   ],
   "source": [
    "moving.head()"
   ]
  },
  {
   "cell_type": "code",
   "execution_count": 20,
   "metadata": {},
   "outputs": [],
   "source": [
    "\n",
    "y=moving['int_rate']\n",
    "X = moving.drop('int_rate', axis=1)"
   ]
  },
  {
   "cell_type": "code",
   "execution_count": 21,
   "metadata": {},
   "outputs": [],
   "source": [
    "X_train, X_test, y_train, y_test = train_test_split(X, y, test_size = 0.25,random_state=0)"
   ]
  },
  {
   "cell_type": "code",
   "execution_count": 22,
   "metadata": {},
   "outputs": [
    {
     "data": {
      "text/plain": [
       "(30, 11)"
      ]
     },
     "execution_count": 22,
     "metadata": {},
     "output_type": "execute_result"
    }
   ],
   "source": [
    "X_train.shape"
   ]
  },
  {
   "cell_type": "code",
   "execution_count": 23,
   "metadata": {},
   "outputs": [
    {
     "data": {
      "text/html": [
       "<div>\n",
       "<style scoped>\n",
       "    .dataframe tbody tr th:only-of-type {\n",
       "        vertical-align: middle;\n",
       "    }\n",
       "\n",
       "    .dataframe tbody tr th {\n",
       "        vertical-align: top;\n",
       "    }\n",
       "\n",
       "    .dataframe thead th {\n",
       "        text-align: right;\n",
       "    }\n",
       "</style>\n",
       "<table border=\"1\" class=\"dataframe\">\n",
       "  <thead>\n",
       "    <tr style=\"text-align: right;\">\n",
       "      <th></th>\n",
       "      <th>loan_amnt</th>\n",
       "      <th>funded_amnt</th>\n",
       "      <th>installment</th>\n",
       "      <th>grade</th>\n",
       "      <th>emp_length</th>\n",
       "      <th>annual_inc</th>\n",
       "      <th>loan_status</th>\n",
       "      <th>addr_state</th>\n",
       "      <th>last_pymnt_amnt</th>\n",
       "      <th>avg_cur_bal</th>\n",
       "      <th>num_actv_rev_tl</th>\n",
       "    </tr>\n",
       "  </thead>\n",
       "  <tbody>\n",
       "    <tr>\n",
       "      <th>31</th>\n",
       "      <td>25600</td>\n",
       "      <td>25600</td>\n",
       "      <td>15</td>\n",
       "      <td>5</td>\n",
       "      <td>15</td>\n",
       "      <td>15</td>\n",
       "      <td>1</td>\n",
       "      <td>11</td>\n",
       "      <td>887.69</td>\n",
       "      <td>342.0</td>\n",
       "      <td>6</td>\n",
       "    </tr>\n",
       "    <tr>\n",
       "      <th>41</th>\n",
       "      <td>4200</td>\n",
       "      <td>4200</td>\n",
       "      <td>11</td>\n",
       "      <td>6</td>\n",
       "      <td>11</td>\n",
       "      <td>11</td>\n",
       "      <td>1</td>\n",
       "      <td>12</td>\n",
       "      <td>139.10</td>\n",
       "      <td>15312.0</td>\n",
       "      <td>11</td>\n",
       "    </tr>\n",
       "    <tr>\n",
       "      <th>35</th>\n",
       "      <td>4000</td>\n",
       "      <td>4000</td>\n",
       "      <td>12</td>\n",
       "      <td>6</td>\n",
       "      <td>12</td>\n",
       "      <td>12</td>\n",
       "      <td>2</td>\n",
       "      <td>2</td>\n",
       "      <td>4009.01</td>\n",
       "      <td>4969.0</td>\n",
       "      <td>1</td>\n",
       "    </tr>\n",
       "    <tr>\n",
       "      <th>5</th>\n",
       "      <td>3600</td>\n",
       "      <td>3600</td>\n",
       "      <td>20</td>\n",
       "      <td>4</td>\n",
       "      <td>20</td>\n",
       "      <td>20</td>\n",
       "      <td>2</td>\n",
       "      <td>8</td>\n",
       "      <td>3673.71</td>\n",
       "      <td>14467.0</td>\n",
       "      <td>1</td>\n",
       "    </tr>\n",
       "    <tr>\n",
       "      <th>13</th>\n",
       "      <td>20000</td>\n",
       "      <td>20000</td>\n",
       "      <td>8</td>\n",
       "      <td>7</td>\n",
       "      <td>8</td>\n",
       "      <td>8</td>\n",
       "      <td>1</td>\n",
       "      <td>15</td>\n",
       "      <td>19181.35</td>\n",
       "      <td>7077.0</td>\n",
       "      <td>1</td>\n",
       "    </tr>\n",
       "  </tbody>\n",
       "</table>\n",
       "</div>"
      ],
      "text/plain": [
       "    loan_amnt  funded_amnt  installment  grade  emp_length  annual_inc  \\\n",
       "31      25600        25600           15      5          15          15   \n",
       "41       4200         4200           11      6          11          11   \n",
       "35       4000         4000           12      6          12          12   \n",
       "5        3600         3600           20      4          20          20   \n",
       "13      20000        20000            8      7           8           8   \n",
       "\n",
       "    loan_status  addr_state  last_pymnt_amnt  avg_cur_bal  num_actv_rev_tl  \n",
       "31            1          11           887.69        342.0                6  \n",
       "41            1          12           139.10      15312.0               11  \n",
       "35            2           2          4009.01       4969.0                1  \n",
       "5             2           8          3673.71      14467.0                1  \n",
       "13            1          15         19181.35       7077.0                1  "
      ]
     },
     "execution_count": 23,
     "metadata": {},
     "output_type": "execute_result"
    }
   ],
   "source": [
    "X_test.head()"
   ]
  },
  {
   "cell_type": "code",
   "execution_count": 24,
   "metadata": {},
   "outputs": [
    {
     "data": {
      "text/plain": [
       "25    18\n",
       "45     8\n",
       "3     14\n",
       "47    23\n",
       "23     8\n",
       "Name: int_rate, dtype: int64"
      ]
     },
     "execution_count": 24,
     "metadata": {},
     "output_type": "execute_result"
    }
   ],
   "source": [
    "y_train.head()"
   ]
  },
  {
   "cell_type": "code",
   "execution_count": 25,
   "metadata": {},
   "outputs": [
    {
     "data": {
      "text/plain": [
       "(11,)"
      ]
     },
     "execution_count": 25,
     "metadata": {},
     "output_type": "execute_result"
    }
   ],
   "source": [
    "y_test.shape"
   ]
  },
  {
   "cell_type": "code",
   "execution_count": 26,
   "metadata": {
    "scrolled": true
   },
   "outputs": [
    {
     "data": {
      "text/plain": [
       "RandomForestClassifier(bootstrap=True, class_weight=None, criterion='gini',\n",
       "                       max_depth=None, max_features='auto', max_leaf_nodes=None,\n",
       "                       min_impurity_decrease=0.0, min_impurity_split=1e-07,\n",
       "                       min_samples_leaf=1, min_samples_split=2,\n",
       "                       min_weight_fraction_leaf=0.0, n_estimators=10, n_jobs=2,\n",
       "                       oob_score=False, random_state=0, verbose=0,\n",
       "                       warm_start=False)"
      ]
     },
     "execution_count": 26,
     "metadata": {},
     "output_type": "execute_result"
    }
   ],
   "source": [
    "clf = RandomForestClassifier(n_jobs=2, random_state=0)\n",
    "\n",
    "clf.fit(X_train, y_train)\n",
    "RandomForestClassifier(bootstrap=True, class_weight=None, criterion='gini',\n",
    "            max_depth=None, max_features='auto', max_leaf_nodes=None,\n",
    "            min_impurity_split=1e-07, min_samples_leaf=1,\n",
    "            min_samples_split=2, min_weight_fraction_leaf=0.0,\n",
    "            n_estimators=10, n_jobs=2, oob_score=False, random_state=0,\n",
    "            verbose=0, warm_start=False)"
   ]
  },
  {
   "cell_type": "code",
   "execution_count": 27,
   "metadata": {},
   "outputs": [],
   "source": [
    "preds = clf.predict(X_test)"
   ]
  },
  {
   "cell_type": "code",
   "execution_count": 28,
   "metadata": {
    "scrolled": true
   },
   "outputs": [
    {
     "data": {
      "text/html": [
       "<div>\n",
       "<style scoped>\n",
       "    .dataframe tbody tr th:only-of-type {\n",
       "        vertical-align: middle;\n",
       "    }\n",
       "\n",
       "    .dataframe tbody tr th {\n",
       "        vertical-align: top;\n",
       "    }\n",
       "\n",
       "    .dataframe thead th {\n",
       "        text-align: right;\n",
       "    }\n",
       "</style>\n",
       "<table border=\"1\" class=\"dataframe\">\n",
       "  <thead>\n",
       "    <tr style=\"text-align: right;\">\n",
       "      <th>Predicted Result</th>\n",
       "      <th>8</th>\n",
       "      <th>12</th>\n",
       "      <th>16</th>\n",
       "      <th>17</th>\n",
       "      <th>18</th>\n",
       "      <th>23</th>\n",
       "      <th>26</th>\n",
       "    </tr>\n",
       "    <tr>\n",
       "      <th>Actual Result</th>\n",
       "      <th></th>\n",
       "      <th></th>\n",
       "      <th></th>\n",
       "      <th></th>\n",
       "      <th></th>\n",
       "      <th></th>\n",
       "      <th></th>\n",
       "    </tr>\n",
       "  </thead>\n",
       "  <tbody>\n",
       "    <tr>\n",
       "      <th>8</th>\n",
       "      <td>2</td>\n",
       "      <td>0</td>\n",
       "      <td>0</td>\n",
       "      <td>0</td>\n",
       "      <td>0</td>\n",
       "      <td>0</td>\n",
       "      <td>0</td>\n",
       "    </tr>\n",
       "    <tr>\n",
       "      <th>11</th>\n",
       "      <td>0</td>\n",
       "      <td>2</td>\n",
       "      <td>0</td>\n",
       "      <td>0</td>\n",
       "      <td>0</td>\n",
       "      <td>0</td>\n",
       "      <td>0</td>\n",
       "    </tr>\n",
       "    <tr>\n",
       "      <th>12</th>\n",
       "      <td>0</td>\n",
       "      <td>1</td>\n",
       "      <td>0</td>\n",
       "      <td>0</td>\n",
       "      <td>0</td>\n",
       "      <td>0</td>\n",
       "      <td>0</td>\n",
       "    </tr>\n",
       "    <tr>\n",
       "      <th>14</th>\n",
       "      <td>0</td>\n",
       "      <td>0</td>\n",
       "      <td>0</td>\n",
       "      <td>1</td>\n",
       "      <td>0</td>\n",
       "      <td>0</td>\n",
       "      <td>0</td>\n",
       "    </tr>\n",
       "    <tr>\n",
       "      <th>15</th>\n",
       "      <td>0</td>\n",
       "      <td>0</td>\n",
       "      <td>1</td>\n",
       "      <td>0</td>\n",
       "      <td>0</td>\n",
       "      <td>0</td>\n",
       "      <td>0</td>\n",
       "    </tr>\n",
       "    <tr>\n",
       "      <th>20</th>\n",
       "      <td>0</td>\n",
       "      <td>0</td>\n",
       "      <td>0</td>\n",
       "      <td>0</td>\n",
       "      <td>2</td>\n",
       "      <td>0</td>\n",
       "      <td>0</td>\n",
       "    </tr>\n",
       "    <tr>\n",
       "      <th>23</th>\n",
       "      <td>0</td>\n",
       "      <td>0</td>\n",
       "      <td>0</td>\n",
       "      <td>0</td>\n",
       "      <td>0</td>\n",
       "      <td>1</td>\n",
       "      <td>0</td>\n",
       "    </tr>\n",
       "    <tr>\n",
       "      <th>27</th>\n",
       "      <td>0</td>\n",
       "      <td>0</td>\n",
       "      <td>0</td>\n",
       "      <td>0</td>\n",
       "      <td>0</td>\n",
       "      <td>0</td>\n",
       "      <td>1</td>\n",
       "    </tr>\n",
       "  </tbody>\n",
       "</table>\n",
       "</div>"
      ],
      "text/plain": [
       "Predicted Result  8   12  16  17  18  23  26\n",
       "Actual Result                               \n",
       "8                  2   0   0   0   0   0   0\n",
       "11                 0   2   0   0   0   0   0\n",
       "12                 0   1   0   0   0   0   0\n",
       "14                 0   0   0   1   0   0   0\n",
       "15                 0   0   1   0   0   0   0\n",
       "20                 0   0   0   0   2   0   0\n",
       "23                 0   0   0   0   0   1   0\n",
       "27                 0   0   0   0   0   0   1"
      ]
     },
     "execution_count": 28,
     "metadata": {},
     "output_type": "execute_result"
    }
   ],
   "source": [
    "pd.crosstab(y_test, preds, rownames=['Actual Result'], colnames=['Predicted Result'])"
   ]
  },
  {
   "cell_type": "code",
   "execution_count": 29,
   "metadata": {},
   "outputs": [
    {
     "name": "stdout",
     "output_type": "stream",
     "text": [
      "Accuracy: 0.5454545454545454\n"
     ]
    }
   ],
   "source": [
    "#2 \n",
    "\n",
    "# Feature Scaling (Normalize x)\n",
    "sc = StandardScaler()\n",
    "X_train = sc.fit_transform(X_train)\n",
    "X_test = sc.transform(X_test)\n",
    "\n",
    "#RF\n",
    "clf=RandomForestClassifier(n_estimators=300)\n",
    "\n",
    "clf.fit(X_train,y_train)\n",
    "\n",
    "# Make predictions on test data\n",
    "y_pred=clf.predict(X_test)\n",
    "\n",
    "from sklearn import metrics\n",
    "# Model Accuracy, how often is the classifier correct?\n",
    "print(\"Accuracy:\",metrics.accuracy_score(y_test, y_pred))"
   ]
  },
  {
   "cell_type": "code",
   "execution_count": 30,
   "metadata": {},
   "outputs": [
    {
     "name": "stdout",
     "output_type": "stream",
     "text": [
      "Testing Accuracy: 0.54545\n",
      "Training Accuracy: 1.00000\n",
      "\n"
     ]
    }
   ],
   "source": [
    "model2 = RandomForestClassifier(n_estimators=300,max_depth=800)\n",
    "model2.fit(X_train,y_train)\n",
    "predictions2 = model2.predict(X_test)\n",
    "\n",
    "print(('Testing Accuracy: %.5f') % (accuracy_score(y_test, predictions2)))\n",
    "print(('Training Accuracy: %.5f') % (accuracy_score(y_train, model2.predict(X_train))))\n",
    "print()"
   ]
  },
  {
   "cell_type": "code",
   "execution_count": 31,
   "metadata": {},
   "outputs": [],
   "source": [
    "# reference: https://towardsdatascience.com/random-forest-in-python-24d0893d51c0\n",
    "def pred_score(model):\n",
    "    pred = model.predict(X_test)\n",
    "    # Calculate the absolute errors\n",
    "    errors = abs(pred - y_test)\n",
    "    # Calculate mean absolute percentage error\n",
    "    mape = 100 * (errors / y_test)\n",
    "    accuracy = 100 - np.mean(mape)\n",
    "    return round(accuracy, 2)"
   ]
  },
  {
   "cell_type": "code",
   "execution_count": 32,
   "metadata": {},
   "outputs": [
    {
     "name": "stdout",
     "output_type": "stream",
     "text": [
      "Accuracy of Logistic regression classifier on training set: 63.33%.\n"
     ]
    }
   ],
   "source": [
    "from sklearn.linear_model import LogisticRegression\n",
    "\n",
    "logreg = LogisticRegression(C=1.0, class_weight=None, dual=False, fit_intercept=True,\n",
    "          intercept_scaling=1, max_iter=110, multi_class='ovr', n_jobs=1,\n",
    "          penalty='l1', random_state=None, solver='liblinear', tol=0.0001,\n",
    "          verbose=0, warm_start=False)\n",
    "\n",
    "logreg.fit(X_train, y_train)\n",
    "print(f'Accuracy of Logistic regression classifier on training set: {round(logreg.score(X_train, y_train)*100,2)}%.')"
   ]
  },
  {
   "cell_type": "code",
   "execution_count": 33,
   "metadata": {},
   "outputs": [
    {
     "name": "stdout",
     "output_type": "stream",
     "text": [
      "Accuracy of K-NN classifier on training set: 43.33%.\n"
     ]
    }
   ],
   "source": [
    "from sklearn.neighbors import KNeighborsClassifier\n",
    "\n",
    "knn = KNeighborsClassifier(algorithm='auto', leaf_size=15, metric='minkowski',\n",
    " metric_params=None, n_jobs=1, n_neighbors=3, p=2,\n",
    " weights='uniform')\n",
    "\n",
    "knn.fit(X_train, y_train)\n",
    "print(f'Accuracy of K-NN classifier on training set: {round(knn.score(X_train, y_train)*100,2)}%.')"
   ]
  },
  {
   "cell_type": "code",
   "execution_count": 34,
   "metadata": {},
   "outputs": [
    {
     "name": "stdout",
     "output_type": "stream",
     "text": [
      "Accuracy of Decision Tree classifier on training set: 100.0%.\n"
     ]
    }
   ],
   "source": [
    "from sklearn.tree import DecisionTreeClassifier\n",
    "\n",
    "dt = DecisionTreeClassifier()\n",
    "\n",
    "dt.fit(X_train, y_train)\n",
    "print(f'Accuracy of Decision Tree classifier on training set: {round(dt.score(X_train, y_train)*100,2)}%.')"
   ]
  },
  {
   "cell_type": "code",
   "execution_count": 35,
   "metadata": {},
   "outputs": [
    {
     "name": "stdout",
     "output_type": "stream",
     "text": [
      "Accuracy of SVM classifier on training set: 90.0%.\n"
     ]
    }
   ],
   "source": [
    "from sklearn.svm import SVC\n",
    "\n",
    "svm = SVC(kernel='linear')\n",
    "\n",
    "svm.fit(X_train, y_train)\n",
    "print(f'Accuracy of SVM classifier on training set: {round(svm.score(X_train, y_train)*100,2)}%.')"
   ]
  },
  {
   "cell_type": "code",
   "execution_count": null,
   "metadata": {},
   "outputs": [],
   "source": []
  },
  {
   "cell_type": "code",
   "execution_count": null,
   "metadata": {},
   "outputs": [],
   "source": []
  }
 ],
 "metadata": {
  "kernelspec": {
   "display_name": "Python 3",
   "language": "python",
   "name": "python3"
  },
  "language_info": {
   "codemirror_mode": {
    "name": "ipython",
    "version": 3
   },
   "file_extension": ".py",
   "mimetype": "text/x-python",
   "name": "python",
   "nbconvert_exporter": "python",
   "pygments_lexer": "ipython3",
   "version": "3.7.3"
  }
 },
 "nbformat": 4,
 "nbformat_minor": 2
}
