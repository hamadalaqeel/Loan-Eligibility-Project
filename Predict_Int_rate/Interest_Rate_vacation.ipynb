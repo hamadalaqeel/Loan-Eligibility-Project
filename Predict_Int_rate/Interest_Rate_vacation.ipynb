{
 "cells": [
  {
   "cell_type": "markdown",
   "metadata": {},
   "source": [
    "# Business Understanding\n",
    "### The purpose of this notebook is predict the interset rate for the credit card dataset"
   ]
  },
  {
   "cell_type": "markdown",
   "metadata": {},
   "source": [
    "## Import necessary Libraries "
   ]
  },
  {
   "cell_type": "code",
   "execution_count": 1,
   "metadata": {},
   "outputs": [],
   "source": [
    "\n",
    "import pandas as pd\n",
    "import numpy as np\n",
    "\n",
    "import warnings # ignore warnings\n",
    "warnings.simplefilter(\"ignore\")      #Assign predictors & target\n",
    "from sklearn import preprocessing     \n",
    "\n",
    "from sklearn.model_selection import train_test_split # Split data\n",
    "\n",
    "#Models\n",
    "from sklearn import model_selection\n",
    "from sklearn.metrics import accuracy_score\n",
    "\n",
    "\n",
    "from sklearn.ensemble import RandomForestClassifier\n",
    "from sklearn.preprocessing import StandardScaler   # Feature Scaling for RF\n",
    "\n",
    "from sklearn.preprocessing import MinMaxScaler\n",
    "\n",
    "\n",
    "from sklearn.svm import SVC\n",
    "from sklearn.model_selection import GridSearchCV\n",
    "\n",
    "from sklearn.model_selection import train_test_split\n",
    "\n",
    "import sklearn \n",
    "from sklearn.metrics import classification_report, confusion_matrix\n",
    "\n",
    "from sklearn.model_selection import cross_val_score\n"
   ]
  },
  {
   "cell_type": "markdown",
   "metadata": {},
   "source": [
    "# Preproccessing"
   ]
  },
  {
   "cell_type": "code",
   "execution_count": 2,
   "metadata": {},
   "outputs": [
    {
     "data": {
      "text/html": [
       "<div>\n",
       "<style scoped>\n",
       "    .dataframe tbody tr th:only-of-type {\n",
       "        vertical-align: middle;\n",
       "    }\n",
       "\n",
       "    .dataframe tbody tr th {\n",
       "        vertical-align: top;\n",
       "    }\n",
       "\n",
       "    .dataframe thead th {\n",
       "        text-align: right;\n",
       "    }\n",
       "</style>\n",
       "<table border=\"1\" class=\"dataframe\">\n",
       "  <thead>\n",
       "    <tr style=\"text-align: right;\">\n",
       "      <th></th>\n",
       "      <th>Column</th>\n",
       "      <th>loan_amnt</th>\n",
       "      <th>funded_amnt</th>\n",
       "      <th>int_rate</th>\n",
       "      <th>installment</th>\n",
       "      <th>grade</th>\n",
       "      <th>emp_length</th>\n",
       "      <th>annual_inc</th>\n",
       "      <th>loan_status</th>\n",
       "      <th>purpose</th>\n",
       "      <th>addr_state</th>\n",
       "      <th>last_pymnt_amnt</th>\n",
       "      <th>avg_cur_bal</th>\n",
       "      <th>num_actv_rev_tl</th>\n",
       "    </tr>\n",
       "  </thead>\n",
       "  <tbody>\n",
       "    <tr>\n",
       "      <th>0</th>\n",
       "      <td>84</td>\n",
       "      <td>2400</td>\n",
       "      <td>2400</td>\n",
       "      <td>20.00</td>\n",
       "      <td>89.20</td>\n",
       "      <td>4</td>\n",
       "      <td>10.0</td>\n",
       "      <td>45000.0</td>\n",
       "      <td>Fully Paid</td>\n",
       "      <td>vacation</td>\n",
       "      <td>ID</td>\n",
       "      <td>2425.33</td>\n",
       "      <td>21672.0</td>\n",
       "      <td>5</td>\n",
       "    </tr>\n",
       "    <tr>\n",
       "      <th>1</th>\n",
       "      <td>144</td>\n",
       "      <td>5000</td>\n",
       "      <td>5000</td>\n",
       "      <td>8.81</td>\n",
       "      <td>158.56</td>\n",
       "      <td>7</td>\n",
       "      <td>10.0</td>\n",
       "      <td>124000.0</td>\n",
       "      <td>Fully Paid</td>\n",
       "      <td>vacation</td>\n",
       "      <td>NY</td>\n",
       "      <td>5003.98</td>\n",
       "      <td>19353.0</td>\n",
       "      <td>10</td>\n",
       "    </tr>\n",
       "    <tr>\n",
       "      <th>2</th>\n",
       "      <td>310</td>\n",
       "      <td>1500</td>\n",
       "      <td>1500</td>\n",
       "      <td>12.40</td>\n",
       "      <td>50.11</td>\n",
       "      <td>6</td>\n",
       "      <td>10.0</td>\n",
       "      <td>91000.0</td>\n",
       "      <td>Charged Off</td>\n",
       "      <td>vacation</td>\n",
       "      <td>NJ</td>\n",
       "      <td>0.00</td>\n",
       "      <td>14542.0</td>\n",
       "      <td>11</td>\n",
       "    </tr>\n",
       "    <tr>\n",
       "      <th>3</th>\n",
       "      <td>374</td>\n",
       "      <td>2400</td>\n",
       "      <td>2400</td>\n",
       "      <td>11.71</td>\n",
       "      <td>79.39</td>\n",
       "      <td>6</td>\n",
       "      <td>2.0</td>\n",
       "      <td>54000.0</td>\n",
       "      <td>Fully Paid</td>\n",
       "      <td>vacation</td>\n",
       "      <td>NJ</td>\n",
       "      <td>2402.58</td>\n",
       "      <td>1041.0</td>\n",
       "      <td>4</td>\n",
       "    </tr>\n",
       "    <tr>\n",
       "      <th>4</th>\n",
       "      <td>473</td>\n",
       "      <td>4200</td>\n",
       "      <td>4200</td>\n",
       "      <td>7.02</td>\n",
       "      <td>129.73</td>\n",
       "      <td>7</td>\n",
       "      <td>10.0</td>\n",
       "      <td>100000.0</td>\n",
       "      <td>Fully Paid</td>\n",
       "      <td>vacation</td>\n",
       "      <td>WA</td>\n",
       "      <td>4250.25</td>\n",
       "      <td>6697.0</td>\n",
       "      <td>2</td>\n",
       "    </tr>\n",
       "    <tr>\n",
       "      <th>5</th>\n",
       "      <td>478</td>\n",
       "      <td>16500</td>\n",
       "      <td>16500</td>\n",
       "      <td>11.02</td>\n",
       "      <td>358.92</td>\n",
       "      <td>6</td>\n",
       "      <td>1.0</td>\n",
       "      <td>100000.0</td>\n",
       "      <td>Fully Paid</td>\n",
       "      <td>vacation</td>\n",
       "      <td>PA</td>\n",
       "      <td>16526.16</td>\n",
       "      <td>5702.0</td>\n",
       "      <td>1</td>\n",
       "    </tr>\n",
       "    <tr>\n",
       "      <th>6</th>\n",
       "      <td>627</td>\n",
       "      <td>4000</td>\n",
       "      <td>4000</td>\n",
       "      <td>15.57</td>\n",
       "      <td>139.79</td>\n",
       "      <td>5</td>\n",
       "      <td>5.0</td>\n",
       "      <td>260000.0</td>\n",
       "      <td>Fully Paid</td>\n",
       "      <td>vacation</td>\n",
       "      <td>TX</td>\n",
       "      <td>36.33</td>\n",
       "      <td>12536.0</td>\n",
       "      <td>7</td>\n",
       "    </tr>\n",
       "    <tr>\n",
       "      <th>7</th>\n",
       "      <td>634</td>\n",
       "      <td>5000</td>\n",
       "      <td>5000</td>\n",
       "      <td>15.57</td>\n",
       "      <td>174.73</td>\n",
       "      <td>5</td>\n",
       "      <td>NaN</td>\n",
       "      <td>25572.0</td>\n",
       "      <td>Fully Paid</td>\n",
       "      <td>vacation</td>\n",
       "      <td>PA</td>\n",
       "      <td>5007.14</td>\n",
       "      <td>1496.0</td>\n",
       "      <td>4</td>\n",
       "    </tr>\n",
       "    <tr>\n",
       "      <th>8</th>\n",
       "      <td>637</td>\n",
       "      <td>8400</td>\n",
       "      <td>8400</td>\n",
       "      <td>11.02</td>\n",
       "      <td>275.09</td>\n",
       "      <td>6</td>\n",
       "      <td>1.0</td>\n",
       "      <td>100000.0</td>\n",
       "      <td>Fully Paid</td>\n",
       "      <td>vacation</td>\n",
       "      <td>AZ</td>\n",
       "      <td>6290.35</td>\n",
       "      <td>4003.0</td>\n",
       "      <td>3</td>\n",
       "    </tr>\n",
       "    <tr>\n",
       "      <th>9</th>\n",
       "      <td>755</td>\n",
       "      <td>10000</td>\n",
       "      <td>10000</td>\n",
       "      <td>20.00</td>\n",
       "      <td>371.64</td>\n",
       "      <td>4</td>\n",
       "      <td>1.0</td>\n",
       "      <td>50000.0</td>\n",
       "      <td>Charged Off</td>\n",
       "      <td>vacation</td>\n",
       "      <td>GA</td>\n",
       "      <td>371.64</td>\n",
       "      <td>3113.0</td>\n",
       "      <td>6</td>\n",
       "    </tr>\n",
       "  </tbody>\n",
       "</table>\n",
       "</div>"
      ],
      "text/plain": [
       "   Column  loan_amnt  funded_amnt  int_rate  installment  grade  emp_length  \\\n",
       "0      84       2400         2400     20.00        89.20      4        10.0   \n",
       "1     144       5000         5000      8.81       158.56      7        10.0   \n",
       "2     310       1500         1500     12.40        50.11      6        10.0   \n",
       "3     374       2400         2400     11.71        79.39      6         2.0   \n",
       "4     473       4200         4200      7.02       129.73      7        10.0   \n",
       "5     478      16500        16500     11.02       358.92      6         1.0   \n",
       "6     627       4000         4000     15.57       139.79      5         5.0   \n",
       "7     634       5000         5000     15.57       174.73      5         NaN   \n",
       "8     637       8400         8400     11.02       275.09      6         1.0   \n",
       "9     755      10000        10000     20.00       371.64      4         1.0   \n",
       "\n",
       "   annual_inc  loan_status   purpose addr_state  last_pymnt_amnt  avg_cur_bal  \\\n",
       "0     45000.0   Fully Paid  vacation         ID          2425.33      21672.0   \n",
       "1    124000.0   Fully Paid  vacation         NY          5003.98      19353.0   \n",
       "2     91000.0  Charged Off  vacation         NJ             0.00      14542.0   \n",
       "3     54000.0   Fully Paid  vacation         NJ          2402.58       1041.0   \n",
       "4    100000.0   Fully Paid  vacation         WA          4250.25       6697.0   \n",
       "5    100000.0   Fully Paid  vacation         PA         16526.16       5702.0   \n",
       "6    260000.0   Fully Paid  vacation         TX            36.33      12536.0   \n",
       "7     25572.0   Fully Paid  vacation         PA          5007.14       1496.0   \n",
       "8    100000.0   Fully Paid  vacation         AZ          6290.35       4003.0   \n",
       "9     50000.0  Charged Off  vacation         GA           371.64       3113.0   \n",
       "\n",
       "   num_actv_rev_tl  \n",
       "0                5  \n",
       "1               10  \n",
       "2               11  \n",
       "3                4  \n",
       "4                2  \n",
       "5                1  \n",
       "6                7  \n",
       "7                4  \n",
       "8                3  \n",
       "9                6  "
      ]
     },
     "execution_count": 2,
     "metadata": {},
     "output_type": "execute_result"
    }
   ],
   "source": [
    "vacation = pd.read_csv('datasets/vacation.csv')\n",
    "vacation.head(n=10)"
   ]
  },
  {
   "cell_type": "code",
   "execution_count": 3,
   "metadata": {},
   "outputs": [
    {
     "data": {
      "text/plain": [
       "(52, 14)"
      ]
     },
     "execution_count": 3,
     "metadata": {},
     "output_type": "execute_result"
    }
   ],
   "source": [
    "vacation.shape"
   ]
  },
  {
   "cell_type": "markdown",
   "metadata": {},
   "source": [
    "# Since it has the same columns as Credit_card dataset, we will follow the same process"
   ]
  },
  {
   "cell_type": "code",
   "execution_count": 4,
   "metadata": {},
   "outputs": [
    {
     "name": "stdout",
     "output_type": "stream",
     "text": [
      "<class 'pandas.core.frame.DataFrame'>\n",
      "RangeIndex: 52 entries, 0 to 51\n",
      "Data columns (total 14 columns):\n",
      "Column             52 non-null int64\n",
      "loan_amnt          52 non-null int64\n",
      "funded_amnt        52 non-null int64\n",
      "int_rate           52 non-null float64\n",
      "installment        52 non-null float64\n",
      "grade              52 non-null int64\n",
      "emp_length         48 non-null float64\n",
      "annual_inc         52 non-null float64\n",
      "loan_status        52 non-null object\n",
      "purpose            52 non-null object\n",
      "addr_state         52 non-null object\n",
      "last_pymnt_amnt    52 non-null float64\n",
      "avg_cur_bal        52 non-null float64\n",
      "num_actv_rev_tl    52 non-null int64\n",
      "dtypes: float64(6), int64(5), object(3)\n",
      "memory usage: 5.8+ KB\n"
     ]
    }
   ],
   "source": [
    "vacation.info()"
   ]
  },
  {
   "cell_type": "code",
   "execution_count": 5,
   "metadata": {},
   "outputs": [],
   "source": [
    "vacation.dropna(inplace = True)"
   ]
  },
  {
   "cell_type": "code",
   "execution_count": 6,
   "metadata": {},
   "outputs": [],
   "source": [
    "vacation['int_rate'] = vacation.int_rate.astype(int)\n",
    "vacation['installment'] = vacation.int_rate.astype(int)\n",
    "vacation['emp_length'] = vacation.int_rate.astype(int)\n",
    "vacation['annual_inc'] = vacation.int_rate.astype(int)\n",
    "vacation['int_rate'] = vacation.int_rate.astype(int)\n",
    "vacation['int_rate'] = vacation.int_rate.astype(int)"
   ]
  },
  {
   "cell_type": "code",
   "execution_count": 7,
   "metadata": {},
   "outputs": [
    {
     "name": "stdout",
     "output_type": "stream",
     "text": [
      "<class 'pandas.core.frame.DataFrame'>\n",
      "Int64Index: 48 entries, 0 to 51\n",
      "Data columns (total 14 columns):\n",
      "Column             48 non-null int64\n",
      "loan_amnt          48 non-null int64\n",
      "funded_amnt        48 non-null int64\n",
      "int_rate           48 non-null int64\n",
      "installment        48 non-null int64\n",
      "grade              48 non-null int64\n",
      "emp_length         48 non-null int64\n",
      "annual_inc         48 non-null int64\n",
      "loan_status        48 non-null object\n",
      "purpose            48 non-null object\n",
      "addr_state         48 non-null object\n",
      "last_pymnt_amnt    48 non-null float64\n",
      "avg_cur_bal        48 non-null float64\n",
      "num_actv_rev_tl    48 non-null int64\n",
      "dtypes: float64(2), int64(9), object(3)\n",
      "memory usage: 5.6+ KB\n"
     ]
    }
   ],
   "source": [
    "vacation.info()"
   ]
  },
  {
   "cell_type": "code",
   "execution_count": 8,
   "metadata": {},
   "outputs": [],
   "source": [
    "vacation.drop('purpose', axis=1, inplace=True)"
   ]
  },
  {
   "cell_type": "code",
   "execution_count": 9,
   "metadata": {},
   "outputs": [
    {
     "data": {
      "text/html": [
       "<div>\n",
       "<style scoped>\n",
       "    .dataframe tbody tr th:only-of-type {\n",
       "        vertical-align: middle;\n",
       "    }\n",
       "\n",
       "    .dataframe tbody tr th {\n",
       "        vertical-align: top;\n",
       "    }\n",
       "\n",
       "    .dataframe thead th {\n",
       "        text-align: right;\n",
       "    }\n",
       "</style>\n",
       "<table border=\"1\" class=\"dataframe\">\n",
       "  <thead>\n",
       "    <tr style=\"text-align: right;\">\n",
       "      <th></th>\n",
       "      <th>Column</th>\n",
       "      <th>loan_amnt</th>\n",
       "      <th>funded_amnt</th>\n",
       "      <th>int_rate</th>\n",
       "      <th>installment</th>\n",
       "      <th>grade</th>\n",
       "      <th>emp_length</th>\n",
       "      <th>annual_inc</th>\n",
       "      <th>loan_status</th>\n",
       "      <th>addr_state</th>\n",
       "      <th>last_pymnt_amnt</th>\n",
       "      <th>avg_cur_bal</th>\n",
       "      <th>num_actv_rev_tl</th>\n",
       "    </tr>\n",
       "  </thead>\n",
       "  <tbody>\n",
       "    <tr>\n",
       "      <th>0</th>\n",
       "      <td>84</td>\n",
       "      <td>2400</td>\n",
       "      <td>2400</td>\n",
       "      <td>20</td>\n",
       "      <td>20</td>\n",
       "      <td>4</td>\n",
       "      <td>20</td>\n",
       "      <td>20</td>\n",
       "      <td>Fully Paid</td>\n",
       "      <td>ID</td>\n",
       "      <td>2425.33</td>\n",
       "      <td>21672.0</td>\n",
       "      <td>5</td>\n",
       "    </tr>\n",
       "    <tr>\n",
       "      <th>1</th>\n",
       "      <td>144</td>\n",
       "      <td>5000</td>\n",
       "      <td>5000</td>\n",
       "      <td>8</td>\n",
       "      <td>8</td>\n",
       "      <td>7</td>\n",
       "      <td>8</td>\n",
       "      <td>8</td>\n",
       "      <td>Fully Paid</td>\n",
       "      <td>NY</td>\n",
       "      <td>5003.98</td>\n",
       "      <td>19353.0</td>\n",
       "      <td>10</td>\n",
       "    </tr>\n",
       "    <tr>\n",
       "      <th>2</th>\n",
       "      <td>310</td>\n",
       "      <td>1500</td>\n",
       "      <td>1500</td>\n",
       "      <td>12</td>\n",
       "      <td>12</td>\n",
       "      <td>6</td>\n",
       "      <td>12</td>\n",
       "      <td>12</td>\n",
       "      <td>Charged Off</td>\n",
       "      <td>NJ</td>\n",
       "      <td>0.00</td>\n",
       "      <td>14542.0</td>\n",
       "      <td>11</td>\n",
       "    </tr>\n",
       "    <tr>\n",
       "      <th>3</th>\n",
       "      <td>374</td>\n",
       "      <td>2400</td>\n",
       "      <td>2400</td>\n",
       "      <td>11</td>\n",
       "      <td>11</td>\n",
       "      <td>6</td>\n",
       "      <td>11</td>\n",
       "      <td>11</td>\n",
       "      <td>Fully Paid</td>\n",
       "      <td>NJ</td>\n",
       "      <td>2402.58</td>\n",
       "      <td>1041.0</td>\n",
       "      <td>4</td>\n",
       "    </tr>\n",
       "    <tr>\n",
       "      <th>4</th>\n",
       "      <td>473</td>\n",
       "      <td>4200</td>\n",
       "      <td>4200</td>\n",
       "      <td>7</td>\n",
       "      <td>7</td>\n",
       "      <td>7</td>\n",
       "      <td>7</td>\n",
       "      <td>7</td>\n",
       "      <td>Fully Paid</td>\n",
       "      <td>WA</td>\n",
       "      <td>4250.25</td>\n",
       "      <td>6697.0</td>\n",
       "      <td>2</td>\n",
       "    </tr>\n",
       "  </tbody>\n",
       "</table>\n",
       "</div>"
      ],
      "text/plain": [
       "   Column  loan_amnt  funded_amnt  int_rate  installment  grade  emp_length  \\\n",
       "0      84       2400         2400        20           20      4          20   \n",
       "1     144       5000         5000         8            8      7           8   \n",
       "2     310       1500         1500        12           12      6          12   \n",
       "3     374       2400         2400        11           11      6          11   \n",
       "4     473       4200         4200         7            7      7           7   \n",
       "\n",
       "   annual_inc  loan_status addr_state  last_pymnt_amnt  avg_cur_bal  \\\n",
       "0          20   Fully Paid         ID          2425.33      21672.0   \n",
       "1           8   Fully Paid         NY          5003.98      19353.0   \n",
       "2          12  Charged Off         NJ             0.00      14542.0   \n",
       "3          11   Fully Paid         NJ          2402.58       1041.0   \n",
       "4           7   Fully Paid         WA          4250.25       6697.0   \n",
       "\n",
       "   num_actv_rev_tl  \n",
       "0                5  \n",
       "1               10  \n",
       "2               11  \n",
       "3                4  \n",
       "4                2  "
      ]
     },
     "execution_count": 9,
     "metadata": {},
     "output_type": "execute_result"
    }
   ],
   "source": [
    "vacation.head()"
   ]
  },
  {
   "cell_type": "code",
   "execution_count": 10,
   "metadata": {},
   "outputs": [],
   "source": [
    "vacation.drop('Column', axis=1, inplace=True)"
   ]
  },
  {
   "cell_type": "code",
   "execution_count": 11,
   "metadata": {},
   "outputs": [
    {
     "data": {
      "text/html": [
       "<div>\n",
       "<style scoped>\n",
       "    .dataframe tbody tr th:only-of-type {\n",
       "        vertical-align: middle;\n",
       "    }\n",
       "\n",
       "    .dataframe tbody tr th {\n",
       "        vertical-align: top;\n",
       "    }\n",
       "\n",
       "    .dataframe thead th {\n",
       "        text-align: right;\n",
       "    }\n",
       "</style>\n",
       "<table border=\"1\" class=\"dataframe\">\n",
       "  <thead>\n",
       "    <tr style=\"text-align: right;\">\n",
       "      <th></th>\n",
       "      <th>loan_amnt</th>\n",
       "      <th>funded_amnt</th>\n",
       "      <th>int_rate</th>\n",
       "      <th>installment</th>\n",
       "      <th>grade</th>\n",
       "      <th>emp_length</th>\n",
       "      <th>annual_inc</th>\n",
       "      <th>loan_status</th>\n",
       "      <th>addr_state</th>\n",
       "      <th>last_pymnt_amnt</th>\n",
       "      <th>avg_cur_bal</th>\n",
       "      <th>num_actv_rev_tl</th>\n",
       "    </tr>\n",
       "  </thead>\n",
       "  <tbody>\n",
       "    <tr>\n",
       "      <th>0</th>\n",
       "      <td>2400</td>\n",
       "      <td>2400</td>\n",
       "      <td>20</td>\n",
       "      <td>20</td>\n",
       "      <td>4</td>\n",
       "      <td>20</td>\n",
       "      <td>20</td>\n",
       "      <td>Fully Paid</td>\n",
       "      <td>ID</td>\n",
       "      <td>2425.33</td>\n",
       "      <td>21672.0</td>\n",
       "      <td>5</td>\n",
       "    </tr>\n",
       "    <tr>\n",
       "      <th>1</th>\n",
       "      <td>5000</td>\n",
       "      <td>5000</td>\n",
       "      <td>8</td>\n",
       "      <td>8</td>\n",
       "      <td>7</td>\n",
       "      <td>8</td>\n",
       "      <td>8</td>\n",
       "      <td>Fully Paid</td>\n",
       "      <td>NY</td>\n",
       "      <td>5003.98</td>\n",
       "      <td>19353.0</td>\n",
       "      <td>10</td>\n",
       "    </tr>\n",
       "    <tr>\n",
       "      <th>2</th>\n",
       "      <td>1500</td>\n",
       "      <td>1500</td>\n",
       "      <td>12</td>\n",
       "      <td>12</td>\n",
       "      <td>6</td>\n",
       "      <td>12</td>\n",
       "      <td>12</td>\n",
       "      <td>Charged Off</td>\n",
       "      <td>NJ</td>\n",
       "      <td>0.00</td>\n",
       "      <td>14542.0</td>\n",
       "      <td>11</td>\n",
       "    </tr>\n",
       "    <tr>\n",
       "      <th>3</th>\n",
       "      <td>2400</td>\n",
       "      <td>2400</td>\n",
       "      <td>11</td>\n",
       "      <td>11</td>\n",
       "      <td>6</td>\n",
       "      <td>11</td>\n",
       "      <td>11</td>\n",
       "      <td>Fully Paid</td>\n",
       "      <td>NJ</td>\n",
       "      <td>2402.58</td>\n",
       "      <td>1041.0</td>\n",
       "      <td>4</td>\n",
       "    </tr>\n",
       "    <tr>\n",
       "      <th>4</th>\n",
       "      <td>4200</td>\n",
       "      <td>4200</td>\n",
       "      <td>7</td>\n",
       "      <td>7</td>\n",
       "      <td>7</td>\n",
       "      <td>7</td>\n",
       "      <td>7</td>\n",
       "      <td>Fully Paid</td>\n",
       "      <td>WA</td>\n",
       "      <td>4250.25</td>\n",
       "      <td>6697.0</td>\n",
       "      <td>2</td>\n",
       "    </tr>\n",
       "  </tbody>\n",
       "</table>\n",
       "</div>"
      ],
      "text/plain": [
       "   loan_amnt  funded_amnt  int_rate  installment  grade  emp_length  \\\n",
       "0       2400         2400        20           20      4          20   \n",
       "1       5000         5000         8            8      7           8   \n",
       "2       1500         1500        12           12      6          12   \n",
       "3       2400         2400        11           11      6          11   \n",
       "4       4200         4200         7            7      7           7   \n",
       "\n",
       "   annual_inc  loan_status addr_state  last_pymnt_amnt  avg_cur_bal  \\\n",
       "0          20   Fully Paid         ID          2425.33      21672.0   \n",
       "1           8   Fully Paid         NY          5003.98      19353.0   \n",
       "2          12  Charged Off         NJ             0.00      14542.0   \n",
       "3          11   Fully Paid         NJ          2402.58       1041.0   \n",
       "4           7   Fully Paid         WA          4250.25       6697.0   \n",
       "\n",
       "   num_actv_rev_tl  \n",
       "0                5  \n",
       "1               10  \n",
       "2               11  \n",
       "3                4  \n",
       "4                2  "
      ]
     },
     "execution_count": 11,
     "metadata": {},
     "output_type": "execute_result"
    }
   ],
   "source": [
    "vacation.head()"
   ]
  },
  {
   "cell_type": "code",
   "execution_count": 12,
   "metadata": {},
   "outputs": [
    {
     "name": "stdout",
     "output_type": "stream",
     "text": [
      "{'loan_status': {'Charged Off': 1, 'Fully Paid': 2}}\n"
     ]
    }
   ],
   "source": [
    "labels_loanStatus = vacation['loan_status'].astype('category').cat.categories.tolist()\n",
    "replace_map_loan_status = {'loan_status' : {k: v for k,v in zip(labels_loanStatus,list(range(1,len(labels_loanStatus)+1)))}}\n",
    "print(replace_map_loan_status)"
   ]
  },
  {
   "cell_type": "code",
   "execution_count": 13,
   "metadata": {},
   "outputs": [],
   "source": [
    "vacation.replace(replace_map_loan_status, inplace=True)"
   ]
  },
  {
   "cell_type": "code",
   "execution_count": 14,
   "metadata": {},
   "outputs": [
    {
     "name": "stdout",
     "output_type": "stream",
     "text": [
      "{'addr_state': {'AZ': 1, 'CA': 2, 'DC': 3, 'FL': 4, 'GA': 5, 'HI': 6, 'ID': 7, 'MD': 8, 'MI': 9, 'MN': 10, 'MO': 11, 'MS': 12, 'NC': 13, 'NH': 14, 'NJ': 15, 'NY': 16, 'OH': 17, 'PA': 18, 'TX': 19, 'VA': 20, 'WA': 21}}\n"
     ]
    }
   ],
   "source": [
    "labels_addr_state = vacation['addr_state'].astype('category').cat.categories.tolist()\n",
    "replace_map_comp_addr_state = {'addr_state' : {k: v for k,v in zip(labels_addr_state,list(range(1,len(labels_addr_state)+1)))}}\n",
    "print(replace_map_comp_addr_state)"
   ]
  },
  {
   "cell_type": "code",
   "execution_count": 15,
   "metadata": {},
   "outputs": [],
   "source": [
    "vacation.replace(replace_map_comp_addr_state, inplace = True)"
   ]
  },
  {
   "cell_type": "code",
   "execution_count": 16,
   "metadata": {},
   "outputs": [
    {
     "data": {
      "text/html": [
       "<div>\n",
       "<style scoped>\n",
       "    .dataframe tbody tr th:only-of-type {\n",
       "        vertical-align: middle;\n",
       "    }\n",
       "\n",
       "    .dataframe tbody tr th {\n",
       "        vertical-align: top;\n",
       "    }\n",
       "\n",
       "    .dataframe thead th {\n",
       "        text-align: right;\n",
       "    }\n",
       "</style>\n",
       "<table border=\"1\" class=\"dataframe\">\n",
       "  <thead>\n",
       "    <tr style=\"text-align: right;\">\n",
       "      <th></th>\n",
       "      <th>loan_amnt</th>\n",
       "      <th>funded_amnt</th>\n",
       "      <th>int_rate</th>\n",
       "      <th>installment</th>\n",
       "      <th>grade</th>\n",
       "      <th>emp_length</th>\n",
       "      <th>annual_inc</th>\n",
       "      <th>loan_status</th>\n",
       "      <th>addr_state</th>\n",
       "      <th>last_pymnt_amnt</th>\n",
       "      <th>avg_cur_bal</th>\n",
       "      <th>num_actv_rev_tl</th>\n",
       "    </tr>\n",
       "  </thead>\n",
       "  <tbody>\n",
       "    <tr>\n",
       "      <th>0</th>\n",
       "      <td>2400</td>\n",
       "      <td>2400</td>\n",
       "      <td>20</td>\n",
       "      <td>20</td>\n",
       "      <td>4</td>\n",
       "      <td>20</td>\n",
       "      <td>20</td>\n",
       "      <td>2</td>\n",
       "      <td>7</td>\n",
       "      <td>2425.33</td>\n",
       "      <td>21672.0</td>\n",
       "      <td>5</td>\n",
       "    </tr>\n",
       "    <tr>\n",
       "      <th>1</th>\n",
       "      <td>5000</td>\n",
       "      <td>5000</td>\n",
       "      <td>8</td>\n",
       "      <td>8</td>\n",
       "      <td>7</td>\n",
       "      <td>8</td>\n",
       "      <td>8</td>\n",
       "      <td>2</td>\n",
       "      <td>16</td>\n",
       "      <td>5003.98</td>\n",
       "      <td>19353.0</td>\n",
       "      <td>10</td>\n",
       "    </tr>\n",
       "    <tr>\n",
       "      <th>2</th>\n",
       "      <td>1500</td>\n",
       "      <td>1500</td>\n",
       "      <td>12</td>\n",
       "      <td>12</td>\n",
       "      <td>6</td>\n",
       "      <td>12</td>\n",
       "      <td>12</td>\n",
       "      <td>1</td>\n",
       "      <td>15</td>\n",
       "      <td>0.00</td>\n",
       "      <td>14542.0</td>\n",
       "      <td>11</td>\n",
       "    </tr>\n",
       "    <tr>\n",
       "      <th>3</th>\n",
       "      <td>2400</td>\n",
       "      <td>2400</td>\n",
       "      <td>11</td>\n",
       "      <td>11</td>\n",
       "      <td>6</td>\n",
       "      <td>11</td>\n",
       "      <td>11</td>\n",
       "      <td>2</td>\n",
       "      <td>15</td>\n",
       "      <td>2402.58</td>\n",
       "      <td>1041.0</td>\n",
       "      <td>4</td>\n",
       "    </tr>\n",
       "    <tr>\n",
       "      <th>4</th>\n",
       "      <td>4200</td>\n",
       "      <td>4200</td>\n",
       "      <td>7</td>\n",
       "      <td>7</td>\n",
       "      <td>7</td>\n",
       "      <td>7</td>\n",
       "      <td>7</td>\n",
       "      <td>2</td>\n",
       "      <td>21</td>\n",
       "      <td>4250.25</td>\n",
       "      <td>6697.0</td>\n",
       "      <td>2</td>\n",
       "    </tr>\n",
       "  </tbody>\n",
       "</table>\n",
       "</div>"
      ],
      "text/plain": [
       "   loan_amnt  funded_amnt  int_rate  installment  grade  emp_length  \\\n",
       "0       2400         2400        20           20      4          20   \n",
       "1       5000         5000         8            8      7           8   \n",
       "2       1500         1500        12           12      6          12   \n",
       "3       2400         2400        11           11      6          11   \n",
       "4       4200         4200         7            7      7           7   \n",
       "\n",
       "   annual_inc  loan_status  addr_state  last_pymnt_amnt  avg_cur_bal  \\\n",
       "0          20            2           7          2425.33      21672.0   \n",
       "1           8            2          16          5003.98      19353.0   \n",
       "2          12            1          15             0.00      14542.0   \n",
       "3          11            2          15          2402.58       1041.0   \n",
       "4           7            2          21          4250.25       6697.0   \n",
       "\n",
       "   num_actv_rev_tl  \n",
       "0                5  \n",
       "1               10  \n",
       "2               11  \n",
       "3                4  \n",
       "4                2  "
      ]
     },
     "execution_count": 16,
     "metadata": {},
     "output_type": "execute_result"
    }
   ],
   "source": [
    "vacation.head()"
   ]
  },
  {
   "cell_type": "code",
   "execution_count": 17,
   "metadata": {},
   "outputs": [],
   "source": [
    "\n",
    "y=vacation['int_rate']\n",
    "X = vacation.drop('int_rate', axis=1)"
   ]
  },
  {
   "cell_type": "code",
   "execution_count": 18,
   "metadata": {},
   "outputs": [],
   "source": [
    "X_train, X_test, y_train, y_test = train_test_split(X, y, test_size = 0.25,random_state=0)"
   ]
  },
  {
   "cell_type": "code",
   "execution_count": 19,
   "metadata": {},
   "outputs": [
    {
     "data": {
      "text/plain": [
       "(36, 11)"
      ]
     },
     "execution_count": 19,
     "metadata": {},
     "output_type": "execute_result"
    }
   ],
   "source": [
    "X_train.shape"
   ]
  },
  {
   "cell_type": "code",
   "execution_count": 20,
   "metadata": {},
   "outputs": [
    {
     "data": {
      "text/html": [
       "<div>\n",
       "<style scoped>\n",
       "    .dataframe tbody tr th:only-of-type {\n",
       "        vertical-align: middle;\n",
       "    }\n",
       "\n",
       "    .dataframe tbody tr th {\n",
       "        vertical-align: top;\n",
       "    }\n",
       "\n",
       "    .dataframe thead th {\n",
       "        text-align: right;\n",
       "    }\n",
       "</style>\n",
       "<table border=\"1\" class=\"dataframe\">\n",
       "  <thead>\n",
       "    <tr style=\"text-align: right;\">\n",
       "      <th></th>\n",
       "      <th>loan_amnt</th>\n",
       "      <th>funded_amnt</th>\n",
       "      <th>installment</th>\n",
       "      <th>grade</th>\n",
       "      <th>emp_length</th>\n",
       "      <th>annual_inc</th>\n",
       "      <th>loan_status</th>\n",
       "      <th>addr_state</th>\n",
       "      <th>last_pymnt_amnt</th>\n",
       "      <th>avg_cur_bal</th>\n",
       "      <th>num_actv_rev_tl</th>\n",
       "    </tr>\n",
       "  </thead>\n",
       "  <tbody>\n",
       "    <tr>\n",
       "      <th>32</th>\n",
       "      <td>30000</td>\n",
       "      <td>30000</td>\n",
       "      <td>14</td>\n",
       "      <td>5</td>\n",
       "      <td>14</td>\n",
       "      <td>14</td>\n",
       "      <td>2</td>\n",
       "      <td>2</td>\n",
       "      <td>30040.52</td>\n",
       "      <td>5650.0</td>\n",
       "      <td>8</td>\n",
       "    </tr>\n",
       "    <tr>\n",
       "      <th>4</th>\n",
       "      <td>4200</td>\n",
       "      <td>4200</td>\n",
       "      <td>7</td>\n",
       "      <td>7</td>\n",
       "      <td>7</td>\n",
       "      <td>7</td>\n",
       "      <td>2</td>\n",
       "      <td>21</td>\n",
       "      <td>4250.25</td>\n",
       "      <td>6697.0</td>\n",
       "      <td>2</td>\n",
       "    </tr>\n",
       "    <tr>\n",
       "      <th>29</th>\n",
       "      <td>10000</td>\n",
       "      <td>10000</td>\n",
       "      <td>14</td>\n",
       "      <td>5</td>\n",
       "      <td>14</td>\n",
       "      <td>14</td>\n",
       "      <td>2</td>\n",
       "      <td>19</td>\n",
       "      <td>9717.95</td>\n",
       "      <td>155.0</td>\n",
       "      <td>5</td>\n",
       "    </tr>\n",
       "    <tr>\n",
       "      <th>33</th>\n",
       "      <td>4000</td>\n",
       "      <td>4000</td>\n",
       "      <td>7</td>\n",
       "      <td>7</td>\n",
       "      <td>7</td>\n",
       "      <td>7</td>\n",
       "      <td>2</td>\n",
       "      <td>4</td>\n",
       "      <td>1765.02</td>\n",
       "      <td>4397.0</td>\n",
       "      <td>2</td>\n",
       "    </tr>\n",
       "    <tr>\n",
       "      <th>35</th>\n",
       "      <td>4000</td>\n",
       "      <td>4000</td>\n",
       "      <td>11</td>\n",
       "      <td>6</td>\n",
       "      <td>11</td>\n",
       "      <td>11</td>\n",
       "      <td>2</td>\n",
       "      <td>2</td>\n",
       "      <td>4065.93</td>\n",
       "      <td>3723.0</td>\n",
       "      <td>0</td>\n",
       "    </tr>\n",
       "  </tbody>\n",
       "</table>\n",
       "</div>"
      ],
      "text/plain": [
       "    loan_amnt  funded_amnt  installment  grade  emp_length  annual_inc  \\\n",
       "32      30000        30000           14      5          14          14   \n",
       "4        4200         4200            7      7           7           7   \n",
       "29      10000        10000           14      5          14          14   \n",
       "33       4000         4000            7      7           7           7   \n",
       "35       4000         4000           11      6          11          11   \n",
       "\n",
       "    loan_status  addr_state  last_pymnt_amnt  avg_cur_bal  num_actv_rev_tl  \n",
       "32            2           2         30040.52       5650.0                8  \n",
       "4             2          21          4250.25       6697.0                2  \n",
       "29            2          19          9717.95        155.0                5  \n",
       "33            2           4          1765.02       4397.0                2  \n",
       "35            2           2          4065.93       3723.0                0  "
      ]
     },
     "execution_count": 20,
     "metadata": {},
     "output_type": "execute_result"
    }
   ],
   "source": [
    "X_test.head()"
   ]
  },
  {
   "cell_type": "code",
   "execution_count": 21,
   "metadata": {},
   "outputs": [
    {
     "data": {
      "text/plain": [
       "36    10\n",
       "30    20\n",
       "51    23\n",
       "2     12\n",
       "50    14\n",
       "Name: int_rate, dtype: int64"
      ]
     },
     "execution_count": 21,
     "metadata": {},
     "output_type": "execute_result"
    }
   ],
   "source": [
    "y_train.head()"
   ]
  },
  {
   "cell_type": "code",
   "execution_count": 22,
   "metadata": {},
   "outputs": [
    {
     "data": {
      "text/plain": [
       "(12,)"
      ]
     },
     "execution_count": 22,
     "metadata": {},
     "output_type": "execute_result"
    }
   ],
   "source": [
    "y_test.shape"
   ]
  },
  {
   "cell_type": "code",
   "execution_count": 23,
   "metadata": {
    "scrolled": true
   },
   "outputs": [
    {
     "data": {
      "text/plain": [
       "RandomForestClassifier(bootstrap=True, class_weight=None, criterion='gini',\n",
       "                       max_depth=None, max_features='auto', max_leaf_nodes=None,\n",
       "                       min_impurity_decrease=0.0, min_impurity_split=1e-07,\n",
       "                       min_samples_leaf=1, min_samples_split=2,\n",
       "                       min_weight_fraction_leaf=0.0, n_estimators=10, n_jobs=2,\n",
       "                       oob_score=False, random_state=0, verbose=0,\n",
       "                       warm_start=False)"
      ]
     },
     "execution_count": 23,
     "metadata": {},
     "output_type": "execute_result"
    }
   ],
   "source": [
    "clf = RandomForestClassifier(n_jobs=2, random_state=0)\n",
    "\n",
    "clf.fit(X_train, y_train)\n",
    "RandomForestClassifier(bootstrap=True, class_weight=None, criterion='gini',\n",
    "            max_depth=None, max_features='auto', max_leaf_nodes=None,\n",
    "            min_impurity_split=1e-07, min_samples_leaf=1,\n",
    "            min_samples_split=2, min_weight_fraction_leaf=0.0,\n",
    "            n_estimators=10, n_jobs=2, oob_score=False, random_state=0,\n",
    "            verbose=0, warm_start=False)"
   ]
  },
  {
   "cell_type": "code",
   "execution_count": 24,
   "metadata": {},
   "outputs": [],
   "source": [
    "preds = clf.predict(X_test)"
   ]
  },
  {
   "cell_type": "code",
   "execution_count": 25,
   "metadata": {
    "scrolled": true
   },
   "outputs": [
    {
     "data": {
      "text/html": [
       "<div>\n",
       "<style scoped>\n",
       "    .dataframe tbody tr th:only-of-type {\n",
       "        vertical-align: middle;\n",
       "    }\n",
       "\n",
       "    .dataframe tbody tr th {\n",
       "        vertical-align: top;\n",
       "    }\n",
       "\n",
       "    .dataframe thead th {\n",
       "        text-align: right;\n",
       "    }\n",
       "</style>\n",
       "<table border=\"1\" class=\"dataframe\">\n",
       "  <thead>\n",
       "    <tr style=\"text-align: right;\">\n",
       "      <th>Predicted Result</th>\n",
       "      <th>7</th>\n",
       "      <th>8</th>\n",
       "      <th>11</th>\n",
       "      <th>14</th>\n",
       "      <th>16</th>\n",
       "      <th>17</th>\n",
       "      <th>19</th>\n",
       "    </tr>\n",
       "    <tr>\n",
       "      <th>Actual Result</th>\n",
       "      <th></th>\n",
       "      <th></th>\n",
       "      <th></th>\n",
       "      <th></th>\n",
       "      <th></th>\n",
       "      <th></th>\n",
       "      <th></th>\n",
       "    </tr>\n",
       "  </thead>\n",
       "  <tbody>\n",
       "    <tr>\n",
       "      <th>7</th>\n",
       "      <td>3</td>\n",
       "      <td>0</td>\n",
       "      <td>0</td>\n",
       "      <td>0</td>\n",
       "      <td>0</td>\n",
       "      <td>0</td>\n",
       "      <td>0</td>\n",
       "    </tr>\n",
       "    <tr>\n",
       "      <th>8</th>\n",
       "      <td>0</td>\n",
       "      <td>1</td>\n",
       "      <td>0</td>\n",
       "      <td>0</td>\n",
       "      <td>0</td>\n",
       "      <td>0</td>\n",
       "      <td>0</td>\n",
       "    </tr>\n",
       "    <tr>\n",
       "      <th>11</th>\n",
       "      <td>0</td>\n",
       "      <td>0</td>\n",
       "      <td>2</td>\n",
       "      <td>0</td>\n",
       "      <td>0</td>\n",
       "      <td>0</td>\n",
       "      <td>0</td>\n",
       "    </tr>\n",
       "    <tr>\n",
       "      <th>12</th>\n",
       "      <td>0</td>\n",
       "      <td>0</td>\n",
       "      <td>1</td>\n",
       "      <td>0</td>\n",
       "      <td>0</td>\n",
       "      <td>0</td>\n",
       "      <td>0</td>\n",
       "    </tr>\n",
       "    <tr>\n",
       "      <th>14</th>\n",
       "      <td>0</td>\n",
       "      <td>0</td>\n",
       "      <td>0</td>\n",
       "      <td>2</td>\n",
       "      <td>0</td>\n",
       "      <td>0</td>\n",
       "      <td>0</td>\n",
       "    </tr>\n",
       "    <tr>\n",
       "      <th>17</th>\n",
       "      <td>0</td>\n",
       "      <td>0</td>\n",
       "      <td>0</td>\n",
       "      <td>0</td>\n",
       "      <td>1</td>\n",
       "      <td>0</td>\n",
       "      <td>1</td>\n",
       "    </tr>\n",
       "    <tr>\n",
       "      <th>18</th>\n",
       "      <td>0</td>\n",
       "      <td>0</td>\n",
       "      <td>0</td>\n",
       "      <td>0</td>\n",
       "      <td>0</td>\n",
       "      <td>1</td>\n",
       "      <td>0</td>\n",
       "    </tr>\n",
       "  </tbody>\n",
       "</table>\n",
       "</div>"
      ],
      "text/plain": [
       "Predicted Result  7   8   11  14  16  17  19\n",
       "Actual Result                               \n",
       "7                  3   0   0   0   0   0   0\n",
       "8                  0   1   0   0   0   0   0\n",
       "11                 0   0   2   0   0   0   0\n",
       "12                 0   0   1   0   0   0   0\n",
       "14                 0   0   0   2   0   0   0\n",
       "17                 0   0   0   0   1   0   1\n",
       "18                 0   0   0   0   0   1   0"
      ]
     },
     "execution_count": 25,
     "metadata": {},
     "output_type": "execute_result"
    }
   ],
   "source": [
    "pd.crosstab(y_test, preds, rownames=['Actual Result'], colnames=['Predicted Result'])"
   ]
  },
  {
   "cell_type": "code",
   "execution_count": 26,
   "metadata": {},
   "outputs": [
    {
     "name": "stdout",
     "output_type": "stream",
     "text": [
      "Accuracy: 0.75\n"
     ]
    }
   ],
   "source": [
    "#2 \n",
    "\n",
    "# Feature Scaling (Normalize x)\n",
    "sc = StandardScaler()\n",
    "X_train = sc.fit_transform(X_train)\n",
    "X_test = sc.transform(X_test)\n",
    "\n",
    "#RF\n",
    "clf=RandomForestClassifier(n_estimators=300)\n",
    "\n",
    "clf.fit(X_train,y_train)\n",
    "\n",
    "# Make predictions on test data\n",
    "y_pred=clf.predict(X_test)\n",
    "\n",
    "from sklearn import metrics\n",
    "# Model Accuracy, how often is the classifier correct?\n",
    "print(\"Accuracy:\",metrics.accuracy_score(y_test, y_pred))"
   ]
  },
  {
   "cell_type": "code",
   "execution_count": 27,
   "metadata": {},
   "outputs": [
    {
     "name": "stdout",
     "output_type": "stream",
     "text": [
      "Testing Accuracy: 0.75000\n",
      "Training Accuracy: 1.00000\n",
      "\n"
     ]
    }
   ],
   "source": [
    "model2 = RandomForestClassifier(n_estimators=300,max_depth=800)\n",
    "model2.fit(X_train,y_train)\n",
    "predictions2 = model2.predict(X_test)\n",
    "\n",
    "print(('Testing Accuracy: %.5f') % (accuracy_score(y_test, predictions2)))\n",
    "print(('Training Accuracy: %.5f') % (accuracy_score(y_train, model2.predict(X_train))))\n",
    "print()"
   ]
  },
  {
   "cell_type": "code",
   "execution_count": 28,
   "metadata": {},
   "outputs": [],
   "source": [
    "# reference: https://towardsdatascience.com/random-forest-in-python-24d0893d51c0\n",
    "def pred_score(model):\n",
    "    pred = model.predict(X_test)\n",
    "    # Calculate the absolute errors\n",
    "    errors = abs(pred - y_test)\n",
    "    # Calculate mean absolute percentage error\n",
    "    mape = 100 * (errors / y_test)\n",
    "    accuracy = 100 - np.mean(mape)\n",
    "    return round(accuracy, 2)"
   ]
  },
  {
   "cell_type": "code",
   "execution_count": 29,
   "metadata": {},
   "outputs": [
    {
     "name": "stdout",
     "output_type": "stream",
     "text": [
      "Accuracy of Logistic regression classifier on training set: 55.56%.\n"
     ]
    }
   ],
   "source": [
    "from sklearn.linear_model import LogisticRegression\n",
    "\n",
    "logreg = LogisticRegression(C=1.0, class_weight=None, dual=False, fit_intercept=True,\n",
    "          intercept_scaling=1, max_iter=110, multi_class='ovr', n_jobs=1,\n",
    "          penalty='l1', random_state=None, solver='liblinear', tol=0.0001,\n",
    "          verbose=0, warm_start=False)\n",
    "\n",
    "logreg.fit(X_train, y_train)\n",
    "print(f'Accuracy of Logistic regression classifier on training set: {round(logreg.score(X_train, y_train)*100,2)}%.')"
   ]
  },
  {
   "cell_type": "code",
   "execution_count": 30,
   "metadata": {},
   "outputs": [
    {
     "name": "stdout",
     "output_type": "stream",
     "text": [
      "Accuracy of K-NN classifier on training set: 44.44%.\n"
     ]
    }
   ],
   "source": [
    "from sklearn.neighbors import KNeighborsClassifier\n",
    "\n",
    "knn = KNeighborsClassifier(algorithm='auto', leaf_size=15, metric='minkowski',\n",
    " metric_params=None, n_jobs=1, n_neighbors=3, p=2,\n",
    " weights='uniform')\n",
    "\n",
    "knn.fit(X_train, y_train)\n",
    "print(f'Accuracy of K-NN classifier on training set: {round(knn.score(X_train, y_train)*100,2)}%.')"
   ]
  },
  {
   "cell_type": "code",
   "execution_count": 31,
   "metadata": {},
   "outputs": [
    {
     "name": "stdout",
     "output_type": "stream",
     "text": [
      "Accuracy of Decision Tree classifier on training set: 100.0%.\n"
     ]
    }
   ],
   "source": [
    "from sklearn.tree import DecisionTreeClassifier\n",
    "\n",
    "dt = DecisionTreeClassifier()\n",
    "\n",
    "dt.fit(X_train, y_train)\n",
    "print(f'Accuracy of Decision Tree classifier on training set: {round(dt.score(X_train, y_train)*100,2)}%.')"
   ]
  },
  {
   "cell_type": "code",
   "execution_count": 32,
   "metadata": {},
   "outputs": [
    {
     "name": "stdout",
     "output_type": "stream",
     "text": [
      "Accuracy of SVM classifier on training set: 91.67%.\n"
     ]
    }
   ],
   "source": [
    "from sklearn.svm import SVC\n",
    "\n",
    "svm = SVC(kernel='linear')\n",
    "\n",
    "svm.fit(X_train, y_train)\n",
    "print(f'Accuracy of SVM classifier on training set: {round(svm.score(X_train, y_train)*100,2)}%.')"
   ]
  }
 ],
 "metadata": {
  "kernelspec": {
   "display_name": "Python 3",
   "language": "python",
   "name": "python3"
  },
  "language_info": {
   "codemirror_mode": {
    "name": "ipython",
    "version": 3
   },
   "file_extension": ".py",
   "mimetype": "text/x-python",
   "name": "python",
   "nbconvert_exporter": "python",
   "pygments_lexer": "ipython3",
   "version": "3.7.3"
  }
 },
 "nbformat": 4,
 "nbformat_minor": 2
}
